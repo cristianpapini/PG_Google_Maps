{
 "cells": [
  {
   "cell_type": "code",
   "execution_count": 30,
   "id": "a44d4124-1384-4ae0-a58e-707e62c17574",
   "metadata": {},
   "outputs": [],
   "source": [
    "import pandas as pd\n",
    "import time\n",
    "import polars as pl\n",
    "from geopy.geocoders import Nominatim"
   ]
  },
  {
   "cell_type": "markdown",
   "id": "84a109a3-256a-47d6-a8d1-8190b22bdece",
   "metadata": {},
   "source": [
    "## Abriendo con polars"
   ]
  },
  {
   "cell_type": "code",
   "execution_count": 2,
   "id": "a0eeba2d-245f-4c71-b1f2-a6e8bd527ab2",
   "metadata": {
    "tags": []
   },
   "outputs": [
    {
     "name": "stdout",
     "output_type": "stream",
     "text": [
      "Tiempo en leer usando polars = 4.68 segundos\n"
     ]
    },
    {
     "data": {
      "text/plain": [
       "(3025011, 15)"
      ]
     },
     "execution_count": 2,
     "metadata": {},
     "output_type": "execute_result"
    }
   ],
   "source": [
    "cur_time = time.time()\n",
    "pl_df = pl.read_parquet(\"parquet/sitios1.parquet\")\n",
    "print(f\"Tiempo en leer usando polars = {round((time.time()-cur_time),2)} segundos\")\n",
    "pl_df.shape"
   ]
  },
  {
   "cell_type": "markdown",
   "id": "49c8c517-2d52-47ee-a239-774406d1b124",
   "metadata": {},
   "source": [
    "## Elimino duplicados en name"
   ]
  },
  {
   "cell_type": "code",
   "execution_count": 3,
   "id": "3e0a63ed-81a9-44ce-af84-829c5207aafc",
   "metadata": {},
   "outputs": [
    {
     "data": {
      "text/plain": [
       "(870913, 15)"
      ]
     },
     "execution_count": 3,
     "metadata": {},
     "output_type": "execute_result"
    }
   ],
   "source": [
    "pl_df = pl_df.filter(pl_df.select(pl.col('name')).is_duplicated())\n",
    "pl_df.shape"
   ]
  },
  {
   "cell_type": "markdown",
   "id": "415785df-95ea-4feb-8ed7-ef9fedae4a1d",
   "metadata": {},
   "source": [
    "str = 'Porter Pharmacy, 129 N Second St, Cochran, GA 31014'\n",
    "str1 = str[str.index(',')+2:]\n",
    "str1[:str1.index(',')]"
   ]
  },
  {
   "cell_type": "markdown",
   "id": "efdf03c4-9414-4075-8469-36c1ba5bc0f0",
   "metadata": {},
   "source": [
    "## Aqui empiezo la limpieza"
   ]
  },
  {
   "cell_type": "markdown",
   "id": "8ebe507f-afbc-4789-b99b-c4547620f433",
   "metadata": {},
   "source": [
    "## Establecimientos Gastronomicos de la Florida"
   ]
  },
  {
   "cell_type": "code",
   "execution_count": 4,
   "id": "b1f8c1c2-5e35-4b26-a849-801689bcb99e",
   "metadata": {},
   "outputs": [],
   "source": [
    "def busca_zip(x):\n",
    "    if x.strip()[len(x)-15:].upper() == ',UNITED STATES':\n",
    "        x = x.strip()[:len(x)-15]\n",
    "    return x.strip()[len(x)-5:]  \n",
    "\n",
    "def busca_state(x):\n",
    "    if x.strip()[len(x)-15:].upper() == ',UNITED STATES':\n",
    "        x = x.strip()[:len(x)-15]\n",
    "    x = x.strip()[:len(x)-6]\n",
    "    return x.strip()[len(x)-2:] \n",
    "\n",
    "def busca_street(x):\n",
    "    try:\n",
    "        x1 = x[x.index(',')+2:]\n",
    "        return x1[:x1.index(',')]+' FL USA'\n",
    "    except:\n",
    "        return x"
   ]
  },
  {
   "cell_type": "code",
   "execution_count": 5,
   "id": "22946aa6-07e4-45c4-8c40-c255e17c59c2",
   "metadata": {},
   "outputs": [
    {
     "name": "stdout",
     "output_type": "stream",
     "text": [
      "4127 records que quedan, tiempo usado = 9.96 segundos\n"
     ]
    }
   ],
   "source": [
    "cur_time = time.time()\n",
    "pl_df1 = (\n",
    "    pl_df.lazy()\n",
    "    # Solo restaurant, bakery, desserts, pastry \n",
    "    .filter(pl.col('category').apply(lambda x: True if ('RESTAURANT' in ''.join(x).upper() or\n",
    "                                                        'BAKERY' in ''.join(x).upper() or\n",
    "                                                        'DESSERTS' in ''.join(x).upper() or\n",
    "                                                        'PASTRY' in ''.join(x).upper() \n",
    "                                                       ) else False))\n",
    "    # Creo columnas nuevas para ML\n",
    "    .with_columns(pl.col('category').apply(lambda x: ''.join(x)))\n",
    "    .with_columns(pl.col('category').apply(lambda x: 1 if 'RESTAURANT' in ''.join(x).upper() else 0).alias('restaurant'))\n",
    "    .with_columns(pl.col('category').apply(lambda x: 1 if 'BAKERY' in ''.join(x).upper() else 0).alias('bakery'))\n",
    "    .with_columns(pl.col('category').apply(lambda x: 1 if 'DESSERTS' in ''.join(x).upper() else 0).alias('dessert'))\n",
    "    .with_columns(pl.col('category').apply(lambda x: 1 if 'PASTRY' in ''.join(x).upper() else 0).alias('pastry')) \n",
    "    .with_columns(pl.col('state').apply(lambda x: 1 if 'PERMANENTLY CLOSED' in x.upper() else 0).alias('closed')) \n",
    "    .with_columns(pl.col('address').apply(busca_street).alias('street'))\n",
    "    # Solo los del estado de la Florida\n",
    "    .with_columns(pl.col('address').apply(busca_zip).alias('zip'))\n",
    "    .with_columns(pl.col('address').apply(busca_state).alias('st'))\n",
    "    # Creo una columna que sea una copia de state para trabajarla y sacarle los horarios\n",
    "    .with_columns(pl.col('state').alias('horario'))\n",
    "    .filter(pl.col('st')=='FL')\n",
    "    # Eliminacion de columnas:        \n",
    "    #.select(pl.exclude(['gmap_id','description','price','hours','MISC','relative_results','state']))  \n",
    "    .collect()\n",
    ")    \n",
    "print(f\"{pl_df1.shape[0]} records que quedan, tiempo usado = {round((time.time()-cur_time),2)} segundos\")"
   ]
  },
  {
   "cell_type": "markdown",
   "id": "8ddbd769-c258-48be-9665-2fac2f0be56e",
   "metadata": {},
   "source": [
    "### Verifique varios casos de valores NaN en la columna closed y todos estaban 'Permanently closed'\n",
    "### asi que todos los valores Nan de la columna closed los pongo en 1"
   ]
  },
  {
   "cell_type": "code",
   "execution_count": 6,
   "id": "401fe7fc-c6d9-4018-a9d7-801619b46f5a",
   "metadata": {},
   "outputs": [],
   "source": [
    "pl_df2 = pl_df1.with_columns(pl.col('closed')).fill_null(1)"
   ]
  },
  {
   "cell_type": "code",
   "execution_count": 7,
   "id": "a7ac5a18-4460-4564-8e54-bccd2d8de224",
   "metadata": {},
   "outputs": [],
   "source": [
    "pl_df2 = pl_df2.with_columns(pl.col(\"zip\").cast(pl.Int64))"
   ]
  },
  {
   "cell_type": "markdown",
   "id": "e392e7ce-bde9-452a-a765-ecb242633185",
   "metadata": {},
   "source": [
    "### Creo las columnas open y close que van a tener los horarios de apertura y cierre, \n",
    "### la informacion sale de la columna state"
   ]
  },
  {
   "cell_type": "code",
   "execution_count": 8,
   "id": "1624f3d2-4ff3-4132-8650-609ab52bae3a",
   "metadata": {},
   "outputs": [],
   "source": [
    "def busca_close(x):\n",
    "    if x == 'Permanently closed': return x\n",
    "    if x[:13] == 'Open ⋅ Closes': return x[14:]\n",
    "    if x[:8] == 'Closed ⋅': return None\n",
    "    if x == 'Open 24 hours': return x\n",
    "    if x[:12] == 'Opens soon ⋅': return None\n",
    "    if x[:14] == 'Closes soon ⋅ ': return x[14:][:7]\n",
    "    if x == 'Open now': return None\n",
    "    if x == 'Temporarily closed': return x\n",
    "    if x == 'Closed': return x\n",
    "    return 'nada'"
   ]
  },
  {
   "cell_type": "code",
   "execution_count": 9,
   "id": "9e100655-6cd4-4fa9-8a3c-bb1359a07325",
   "metadata": {},
   "outputs": [],
   "source": [
    "def busca_open(x):\n",
    "    if x == 'Permanently closed': return x\n",
    "\n",
    "    if x[:13] == 'Closes soon ⋅':\n",
    "        try:\n",
    "            return texto[14:][6:][texto[14:][6:].index('Opens')+6:]\n",
    "        except:\n",
    "            try:\n",
    "                return texto[14:][6:][texto[14:][6:].index('Reopens')+8:]\n",
    "            except:\n",
    "                return None\n",
    "    if x[:12] == 'Opens soon ⋅': return x[13:]\n",
    "    if x[:8] == 'Open now': return None\n",
    "    if x[:6] == 'Open ⋅': return None\n",
    "    if x[:14] == 'Closed ⋅ Opens': return x[15:] \n",
    "    if x == 'Open 24 hours': return x \n",
    "    if x == 'Temporarily closed': return x\n",
    "    if x == 'Closed': return x \n",
    "    return 'nada'"
   ]
  },
  {
   "cell_type": "code",
   "execution_count": 10,
   "id": "9b1a4cfa-db2c-4ef3-8777-87fc93c80c15",
   "metadata": {},
   "outputs": [],
   "source": [
    "def rectifico_close(x):\n",
    "    if x[:5] == '1AM ⋅': return '1AM'\n",
    "    if x[:5] == '2AM ⋅': return '2AM'\n",
    "    if x[:5] == '2PM ⋅': return '2PM'\n",
    "    if x[:5] == '3PM ⋅': return '3PM'\n",
    "    if x[:5] == '4PM ⋅': return '4PM'\n",
    "    if x[:5] == '5PM ⋅': return '5PM'\n",
    "    if x[:5] == '6PM ⋅': return '6PM'\n",
    "    if x[:5] == '7PM ⋅': return '7PM'\n",
    "    if x[:5] == '8PM ⋅': return '8PM'\n",
    "    if x[:5] == '8AM ⋅': return '8AM'\n",
    "    if x[:5] == '9PM ⋅': return '9PM'\n",
    "    if x[:6] == '10PM ⋅': return '10PM'\n",
    "    if x[:6] == '11AM ⋅': return '11AM'\n",
    "    if x[:6] == '11PM ⋅': return '11PM'\n",
    "    if x[:6] == '12AM ⋅': return '12AM'\n",
    "    return x"
   ]
  },
  {
   "cell_type": "code",
   "execution_count": 11,
   "id": "6aab1806-7e39-443d-b721-e4e9ef228724",
   "metadata": {},
   "outputs": [],
   "source": [
    "pl_df3 = pl_df2.with_columns([\n",
    "    pl.col('state').apply(busca_open).alias('open'),\n",
    "    pl.col('state').apply(busca_close).alias('close')\n",
    "])\n",
    "pl_df3 = pl_df3.with_columns([\n",
    "   pl.col('close').apply(rectifico_close)\n",
    "])\n",
    "pd_df3 = pl_df3.to_pandas()"
   ]
  },
  {
   "cell_type": "code",
   "execution_count": null,
   "id": "665c8746-f86c-4e11-87ba-2755951fc2aa",
   "metadata": {},
   "outputs": [],
   "source": []
  },
  {
   "cell_type": "markdown",
   "id": "dec0c423-a3ac-45bd-9ad2-0d0d5aa2746d",
   "metadata": {},
   "source": [
    "# Pruebas\n",
    "texto = pl_df3[1739,'close']\n",
    "#texto[14:].index('⋅')\n",
    "texto[:5]"
   ]
  },
  {
   "cell_type": "code",
   "execution_count": 12,
   "id": "52b27088-3cfd-4fe1-b175-c5a0c10b58a0",
   "metadata": {},
   "outputs": [],
   "source": [
    "pl_df3 = pl_df3.select(pl.exclude(['state','st']))"
   ]
  },
  {
   "cell_type": "markdown",
   "id": "f75dacd4-042a-4066-aa0b-39e84466b2dd",
   "metadata": {},
   "source": [
    "## Agrego columnas de county y city que pueden servir al grupo de Analitics y el de Machine Learning"
   ]
  },
  {
   "cell_type": "code",
   "execution_count": 13,
   "id": "5eca2a57-81f3-4653-967d-40e011e40ccc",
   "metadata": {},
   "outputs": [
    {
     "data": {
      "text/html": [
       "<div>\n",
       "<style scoped>\n",
       "    .dataframe tbody tr th:only-of-type {\n",
       "        vertical-align: middle;\n",
       "    }\n",
       "\n",
       "    .dataframe tbody tr th {\n",
       "        vertical-align: top;\n",
       "    }\n",
       "\n",
       "    .dataframe thead th {\n",
       "        text-align: right;\n",
       "    }\n",
       "\n",
       "    .dataframe td {\n",
       "        white-space: pre;\n",
       "    }\n",
       "\n",
       "    .dataframe td {\n",
       "        padding-top: 0;\n",
       "    }\n",
       "\n",
       "    .dataframe td {\n",
       "        padding-bottom: 0;\n",
       "    }\n",
       "\n",
       "    .dataframe td {\n",
       "        line-height: 95%;\n",
       "    }\n",
       "</style>\n",
       "<table border=\"1\" class=\"dataframe\">\n",
       "<small>shape: (5, 5)</small>\n",
       "<thead>\n",
       "<tr>\n",
       "<th>\n",
       "zip\n",
       "</th>\n",
       "<th>\n",
       "Zipcode name\n",
       "</th>\n",
       "<th>\n",
       "City\n",
       "</th>\n",
       "<th>\n",
       "State\n",
       "</th>\n",
       "<th>\n",
       "County Name\n",
       "</th>\n",
       "</tr>\n",
       "<tr>\n",
       "<td>\n",
       "i64\n",
       "</td>\n",
       "<td>\n",
       "str\n",
       "</td>\n",
       "<td>\n",
       "str\n",
       "</td>\n",
       "<td>\n",
       "str\n",
       "</td>\n",
       "<td>\n",
       "str\n",
       "</td>\n",
       "</tr>\n",
       "</thead>\n",
       "<tbody>\n",
       "<tr>\n",
       "<td>\n",
       "32003\n",
       "</td>\n",
       "<td>\n",
       "&quot;&quot;FLEMING ISLAN...\n",
       "</td>\n",
       "<td>\n",
       "&quot;FLEMING ISLAND...\n",
       "</td>\n",
       "<td>\n",
       "&quot;FL&quot;\n",
       "</td>\n",
       "<td>\n",
       "&quot;CLAY&quot;\n",
       "</td>\n",
       "</tr>\n",
       "<tr>\n",
       "<td>\n",
       "32004\n",
       "</td>\n",
       "<td>\n",
       "&quot;&quot;PONTE VEDRA B...\n",
       "</td>\n",
       "<td>\n",
       "&quot;PONTE VEDRA BE...\n",
       "</td>\n",
       "<td>\n",
       "&quot;FL&quot;\n",
       "</td>\n",
       "<td>\n",
       "&quot;SAINT JOHNS&quot;\n",
       "</td>\n",
       "</tr>\n",
       "<tr>\n",
       "<td>\n",
       "32006\n",
       "</td>\n",
       "<td>\n",
       "&quot;&quot;FLEMING ISLAN...\n",
       "</td>\n",
       "<td>\n",
       "&quot;FLEMING ISLAND...\n",
       "</td>\n",
       "<td>\n",
       "&quot;FL&quot;\n",
       "</td>\n",
       "<td>\n",
       "&quot;CLAY&quot;\n",
       "</td>\n",
       "</tr>\n",
       "<tr>\n",
       "<td>\n",
       "32007\n",
       "</td>\n",
       "<td>\n",
       "&quot;&quot;BOSTWICK. FL&quot;...\n",
       "</td>\n",
       "<td>\n",
       "&quot;BOSTWICK&quot;\n",
       "</td>\n",
       "<td>\n",
       "&quot;FL&quot;\n",
       "</td>\n",
       "<td>\n",
       "&quot;PUTNAM&quot;\n",
       "</td>\n",
       "</tr>\n",
       "<tr>\n",
       "<td>\n",
       "32008\n",
       "</td>\n",
       "<td>\n",
       "&quot;&quot;BRANFORD. FL&quot;...\n",
       "</td>\n",
       "<td>\n",
       "&quot;BRANFORD&quot;\n",
       "</td>\n",
       "<td>\n",
       "&quot;FL&quot;\n",
       "</td>\n",
       "<td>\n",
       "&quot;SUWANNEE&quot;\n",
       "</td>\n",
       "</tr>\n",
       "</tbody>\n",
       "</table>\n",
       "</div>"
      ],
      "text/plain": [
       "shape: (5, 5)\n",
       "┌───────┬─────────────────────────┬───────────────────┬───────┬─────────────┐\n",
       "│ zip   ┆ Zipcode name            ┆ City              ┆ State ┆ County Name │\n",
       "│ ---   ┆ ---                     ┆ ---               ┆ ---   ┆ ---         │\n",
       "│ i64   ┆ str                     ┆ str               ┆ str   ┆ str         │\n",
       "╞═══════╪═════════════════════════╪═══════════════════╪═══════╪═════════════╡\n",
       "│ 32003 ┆ \"FLEMING ISLAND. FL\"    ┆ FLEMING ISLAND    ┆ FL    ┆ CLAY        │\n",
       "│ 32004 ┆ \"PONTE VEDRA BEACH. FL\" ┆ PONTE VEDRA BEACH ┆ FL    ┆ SAINT JOHNS │\n",
       "│ 32006 ┆ \"FLEMING ISLAND. FL\"    ┆ FLEMING ISLAND    ┆ FL    ┆ CLAY        │\n",
       "│ 32007 ┆ \"BOSTWICK. FL\"          ┆ BOSTWICK          ┆ FL    ┆ PUTNAM      │\n",
       "│ 32008 ┆ \"BRANFORD. FL\"          ┆ BRANFORD          ┆ FL    ┆ SUWANNEE    │\n",
       "└───────┴─────────────────────────┴───────────────────┴───────┴─────────────┘"
      ]
     },
     "execution_count": 13,
     "metadata": {},
     "output_type": "execute_result"
    }
   ],
   "source": [
    "pl_zip = pl.read_csv('csv/zip_florida.csv')\n",
    "pl_zip.head()"
   ]
  },
  {
   "cell_type": "code",
   "execution_count": 14,
   "id": "3de0bc31-6f82-42b9-82d2-2a04134e78ee",
   "metadata": {},
   "outputs": [],
   "source": [
    "pl_df3 = pl_df3.join(pl_zip.select(['zip','City','County Name']), on='zip')"
   ]
  },
  {
   "cell_type": "markdown",
   "id": "e9756f6a-ded2-428b-a896-566c5cd45f45",
   "metadata": {},
   "source": [
    "## Arreglar latitud y longitud\n",
    "### Este es el formato que tengo    'Cape Seafood Shack, 603 Del Prado Blvd S, Cape Coral, FL 33990'\n",
    "### Este es el formato que necesito   '603 Del Prado Blvd S 33990 FL USA'"
   ]
  },
  {
   "cell_type": "markdown",
   "id": "63fb0bb5-9dc8-4662-8150-771c49558c0e",
   "metadata": {},
   "source": [
    " ### Creo dos nuevas columnas latitude1 y longitude1"
   ]
  },
  {
   "cell_type": "code",
   "execution_count": 15,
   "id": "d2472e47-9436-4350-9329-6be7a9a655ab",
   "metadata": {},
   "outputs": [],
   "source": [
    "# '603 Del Prado Blvd S 33990 FL USA'\n",
    "def busca_latitude(x):\n",
    "    try:\n",
    "        location = geolocator.geocode(x)\n",
    "        return location.latitude\n",
    "    except:\n",
    "        return 0\n",
    "\n",
    "def busca_longitude(x):\n",
    "    try:\n",
    "        location = geolocator.geocode(x)\n",
    "        return location.longitude\n",
    "    except:\n",
    "        return 0"
   ]
  },
  {
   "cell_type": "code",
   "execution_count": 31,
   "id": "f29341d1-106c-43ce-9e53-b7290eb0ba5f",
   "metadata": {},
   "outputs": [
    {
     "data": {
      "text/plain": [
       "geopy.geocoders.nominatim.Nominatim"
      ]
     },
     "execution_count": 31,
     "metadata": {},
     "output_type": "execute_result"
    }
   ],
   "source": [
    "geolocator = Nominatim(user_agent='hola')\n",
    "type(geolocator)"
   ]
  },
  {
   "cell_type": "code",
   "execution_count": 19,
   "id": "6f7d593c-b69a-4a4c-ad2e-2b635fb5739f",
   "metadata": {},
   "outputs": [
    {
     "name": "stdout",
     "output_type": "stream",
     "text": [
      "tiempo usado = 107.56833333333334 minutos\n"
     ]
    }
   ],
   "source": [
    "cur_time = time.time()\n",
    "pl_df3 = (\n",
    "    pl_df3.lazy()\n",
    "    .with_columns([\n",
    "        pl.col('street').apply(busca_latitude).alias('latitude1'),\n",
    "        pl.col('street').apply(busca_longitude).alias('longitude1')    \n",
    "        #pl.col('latitude').apply(lambda x: busca_latitude if x == 0 else x),\n",
    "        #pl.col('longitude').apply(lambda x: busca_longitude if x == 0 else x)\n",
    "    ])\n",
    "    .collect()\n",
    ")\n",
    "print(f\"tiempo usado = {round((time.time()-cur_time),2)/60} minutos\")"
   ]
  },
  {
   "cell_type": "code",
   "execution_count": 20,
   "id": "8d89b9b9-ee71-4aa7-b66e-a3150f60d10d",
   "metadata": {},
   "outputs": [],
   "source": [
    "pd_df3 = pl_df3.to_pandas()"
   ]
  },
  {
   "cell_type": "markdown",
   "id": "08e8edae-57f5-449d-bfdc-9ad19ab71743",
   "metadata": {},
   "source": [
    "location = geolocator.geocode(pl_df3[3,'street'])\n",
    "print(location.latitude,location.longitude)"
   ]
  },
  {
   "cell_type": "markdown",
   "id": "74912f43-b63b-44be-8a93-bfb609d89927",
   "metadata": {},
   "source": [
    "#'Cape Seafood Shack, 603 Del Prado Blvd S, Cape Coral, FL 33990'\n",
    "#location = geolocator.geocode('603 Del Prado Blvd S 33990 FL USA')\n",
    "#print((location.latitude, location.longitude))"
   ]
  },
  {
   "cell_type": "markdown",
   "id": "08448d20-b675-4bcd-9e86-d35145d75e24",
   "metadata": {
    "tags": []
   },
   "source": [
    "## Salvo Datos Establecimientos Gastronomicos de la Florida "
   ]
  },
  {
   "cell_type": "code",
   "execution_count": 23,
   "id": "f763d8cb-4ef4-43b1-8075-147d4312b3f7",
   "metadata": {},
   "outputs": [],
   "source": [
    "pl_df3.write_parquet(\"parquet/sitios_FL.parquet\")\n",
    "pl_df3.write_csv(\"csv/sitios_FL.csv\")\n",
    "#pl_df3.write_parquet(\"PG_Google_Maps/Ornaldo/Machine Learning/sitios_FL.parquet\")\n",
    "pl_df3.write_csv(\"PG_Google_Maps/Ornaldo/sitios_FL.csv\")"
   ]
  },
  {
   "cell_type": "code",
   "execution_count": null,
   "id": "33e77020-db5b-49cb-8f04-1a3a8ada90fa",
   "metadata": {},
   "outputs": [],
   "source": [
    "# Unir columnas\n",
    "# pl.map([\"iyear\", \"imonth\", \"iday\"], lambda s: s[0] + \"-\" + s[1] + \"-\" + s[2]).alias(\"date2\"),"
   ]
  },
  {
   "cell_type": "code",
   "execution_count": null,
   "id": "3e1e53ad-5b6b-40a7-acff-3f7c91c0ba22",
   "metadata": {},
   "outputs": [],
   "source": []
  }
 ],
 "metadata": {
  "kernelspec": {
   "display_name": "Python 3 (ipykernel)",
   "language": "python",
   "name": "python3"
  },
  "language_info": {
   "codemirror_mode": {
    "name": "ipython",
    "version": 3
   },
   "file_extension": ".py",
   "mimetype": "text/x-python",
   "name": "python",
   "nbconvert_exporter": "python",
   "pygments_lexer": "ipython3",
   "version": "3.10.5"
  }
 },
 "nbformat": 4,
 "nbformat_minor": 5
}
