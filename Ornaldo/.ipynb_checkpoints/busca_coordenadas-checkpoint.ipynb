{
 "cells": [
  {
   "cell_type": "code",
   "execution_count": 40,
   "id": "121ec7b8-3ec0-4385-a6db-044b0ffc3451",
   "metadata": {},
   "outputs": [],
   "source": [
    "import pandas as pd\n",
    "import time\n",
    "import polars as pl\n",
    "import numpy as np\n",
    "from geopy.geocoders import Nominatim\n",
    "\n",
    "import scrapy"
   ]
  },
  {
   "cell_type": "markdown",
   "id": "b42f4e95-14b9-4016-90d7-f692b2171328",
   "metadata": {},
   "source": [
    "## Usando Geopy"
   ]
  },
  {
   "cell_type": "markdown",
   "id": "632384c6-3acd-4287-b3bc-bfa686cccc8e",
   "metadata": {},
   "source": [
    "## Arreglar latitud y longitud\n",
    "### Este es el formato que tengo    'Cape Seafood Shack, 603 Del Prado Blvd S, Cape Coral, FL 33990'\n",
    "### Este es el formato que necesito   '603 Del Prado Blvd S 33990 FL USA'"
   ]
  },
  {
   "cell_type": "markdown",
   "id": "4f6387a1-2423-465e-a20b-1cd2e1be0bd7",
   "metadata": {},
   "source": [
    " ### Creo dos nuevas columnas latitude1 y longitude1"
   ]
  },
  {
   "cell_type": "markdown",
   "id": "97a5a1be-36d0-4abc-a2c0-309e75195809",
   "metadata": {},
   "source": [
    "# '603 Del Prado Blvd S 33990 FL USA'\n",
    "def busca_latitude(x):\n",
    "    try:\n",
    "        location = geolocator.geocode(x)\n",
    "        return location.latitude\n",
    "    except:\n",
    "        return 0\n",
    "\n",
    "def busca_longitude(x):\n",
    "    try:\n",
    "        location = geolocator.geocode(x)\n",
    "        return location.longitude\n",
    "    except:\n",
    "        return 0\n",
    "    \n",
    "def busca_localizacion(x):    \n",
    "    try:\n",
    "        location = geolocator.geocode(x)\n",
    "        return location\n",
    "    except:\n",
    "        return 0\n",
    "    "
   ]
  },
  {
   "cell_type": "markdown",
   "id": "ebb32a52-b862-4091-9177-d8a845039a29",
   "metadata": {},
   "source": [
    "geolocator = Nominatim(user_agent='hola')\n",
    "type(geolocator)"
   ]
  },
  {
   "cell_type": "markdown",
   "id": "5da2119b-4497-4dbc-8d7b-d196347feef3",
   "metadata": {},
   "source": [
    "cur_time = time.time()\n",
    "#pl_df3 = \n",
    "pl_df3 =(\n",
    "    pl_df3.lazy()\n",
    "    .with_columns([\n",
    "        #pl.col('street').apply(busca_latitude).alias('latitude1'),\n",
    "        #pl.col('street').apply(busca_longitude).alias('longitude1')    \n",
    "        pl.col('url').apply(find_latitude).alias('latitude2'),\n",
    "        pl.col('url').apply(find_longitude).alias('longitude2')\n",
    "    ])\n",
    "    .collect()\n",
    ")\n",
    "print(f\"tiempo usado = {round((time.time()-cur_time),2)/60} minutos\")"
   ]
  },
  {
   "cell_type": "markdown",
   "id": "5493a6e2-8d2b-45f3-8b58-1081941edc27",
   "metadata": {},
   "source": [
    "## Usando la clase ScrapearGMaps en el fichero scrapy.py"
   ]
  },
  {
   "cell_type": "markdown",
   "id": "98c5d29d-438f-4583-84c9-728493721dbe",
   "metadata": {},
   "source": [
    "pl_sitio = pl.read_csv('csv/sitios_FL.csv')\n",
    "pl_sitio.shape"
   ]
  },
  {
   "cell_type": "markdown",
   "id": "91699eda-9b01-48bb-ad32-71de19ba454d",
   "metadata": {},
   "source": [
    "pl_coordenadas = pl_sitio.with_columns([\n",
    "    pl.col('latitude').apply(lambda x: 0.0).alias('latitude1'),\n",
    "    pl.col('longitude').apply(lambda x: 0.0).alias('longitude1')\n",
    "]).select(['name','latitude1','longitude1','url'])\n",
    "pl_coordenadas.shape"
   ]
  },
  {
   "cell_type": "code",
   "execution_count": 41,
   "id": "47861a27-013b-4109-9381-41350e5ba23a",
   "metadata": {},
   "outputs": [],
   "source": [
    "pl_coordenadas = pl.read_csv('csv/coordenadas_FL.csv')"
   ]
  },
  {
   "cell_type": "code",
   "execution_count": 138,
   "id": "778e600b-060c-48d4-8e6b-d68869311f58",
   "metadata": {},
   "outputs": [
    {
     "name": "stdout",
     "output_type": "stream",
     "text": [
      "1801- Cici's Pizza = ('', '')\n",
      "1802- Fancy I Naturals = ('26.0286159', '-80.1689682')\n",
      "1803- Shake n Burger = ('27.9928256', '-82.3717325')\n",
      "1804- Jet's Pizza = ('28.1053074', '-81.972583')\n",
      "1805- Panda Express = ('27.9380286', '-82.3078175')\n",
      "1806- Misha's Cupcakes = ('25.949908', '-80.1454012')\n",
      "1807- Subway = ('26.782892', '-80.1079627')\n",
      "1808- Green Leaf Kitchen = ('28.698652', '-81.339243')\n",
      "1809- Sonic Drive-In = ('30.5872714', '-84.5934259')\n",
      "1810- Cold Stone Creamery = ('', '')\n",
      "1811- Subway = ('', '')\n",
      "1812- Mi Casa Latina = ('', '')\n",
      "1813- Genji Sushi = ('', '')\n",
      "1814- Subway = ('', '')\n",
      "1815- GoJuice = ('', '')\n",
      "1816- El Aguila Restaurant = ('', '')\n",
      "1817- Coffee Culture Cafe & Eatery = ('', '')\n",
      "1818- Wawa = ('', '')\n",
      "1819- Chipotle Mexican Grill = ('', '')\n",
      "1820- Aroma Indian Cuisine = ('', '')\n",
      "1821- Teriyaki Madness = ('', '')\n",
      "1822- Popeyes Louisiana Kitchen = ('', '')\n",
      "1823- Don Pan = ('', '')\n",
      "1824- CLOSED Hungry Howie's = ('', '')\n",
      "1825- Kitchen Grill = ('', '')\n",
      "1826- Marios = ('', '')\n",
      "1827- Subway = ('', '')\n",
      "1828- Planet Smoothie = ('', '')\n",
      "1829- Jimmy John's = ('', '')\n",
      "1830- Southern Sisters Restaurant = ('', '')\n",
      "1831- Subway = ('', '')\n",
      "1832- The Frying Dutchman = ('', '')\n",
      "1833- Pizza Hut Express = ('', '')\n",
      "1834- Sarasota Kennel Club = ('', '')\n",
      "1835- Shake Shack = ('', '')\n",
      "1836- The Pour House = ('', '')\n",
      "1837- Ringside Cafe = ('', '')\n",
      "1838- Sbarro = ('', '')\n",
      "1839- Subway = ('', '')\n",
      "1840- Tamarind Thai Restaurant = ('', '')\n",
      "1841- Williams Cafe = ('', '')\n",
      "1842- Empire Marketing Group = ('', '')\n",
      "1843- Graffiti & The Funky Blues Shack = ('', '')\n",
      "1844- The Fork = ('', '')\n",
      "1845- Hot Rod BBQ = ('', '')\n",
      "1846- Wendy's = ('', '')\n",
      "1847- BGR The Burger Joint = ('', '')\n",
      "1848- China House = ('', '')\n",
      "1849- Dunkin = ('', '')\n",
      "1850- Planet Smoothie = ('', '')\n",
      "1851- Tossed = ('', '')\n",
      "1852- Mike's Pizzeria = ('', '')\n",
      "1853- China Max = ('', '')\n",
      "1854- Drift Kitchen & Bar = ('', '')\n",
      "1855- Smoothie King = ('', '')\n",
      "1856- Fla Juice & Bowl = ('', '')\n",
      "1857- Whaley Foodservice = ('', '')\n",
      "1858- Tropical Smoothie Cafe = ('', '')\n",
      "1859- Diced = ('', '')\n",
      "1860- The Burger Shack = ('', '')\n",
      "1861- Snack Shack = ('', '')\n",
      "1862- Subway = ('', '')\n",
      "1863- Carvel = ('', '')\n",
      "1864- Nothing Bundt Cakes = ('', '')\n",
      "1865- Tropical Smoothie Cafe = ('', '')\n",
      "1866- Auntie Anne's = ('', '')\n",
      "1867- Kruk's Philly Steaks = ('', '')\n",
      "1868- Panacea Pizza = ('', '')\n",
      "1869- Dunkin = ('', '')\n",
      "1870- Shell = ('', '')\n",
      "1871- Whataburger = ('', '')\n",
      "1872- Subway = ('', '')\n",
      "1873- Pizza Hut Express = ('', '')\n",
      "1874- Panda Express = ('', '')\n",
      "1875- China Max = ('', '')\n",
      "1876- Subway = ('', '')\n",
      "1877- Wingstop = ('', '')\n",
      "1878- Wendy's = ('', '')\n",
      "1879- Lakeside Cafe = ('', '')\n",
      "1880- BurgerIM = ('', '')\n",
      "1881- Wendy's = ('', '')\n",
      "1882- The Crepevine = ('', '')\n",
      "1883- SUBWAY®Restaurants = ('', '')\n",
      "1884- Mr. Puffs Dessert Bar = ('', '')\n",
      "1885- Subway = ('', '')\n",
      "1886- Hungry Howie's = ('', '')\n",
      "1887- Asian Chao = ('', '')\n",
      "1888- Panda Express = ('', '')\n",
      "1889- Domino's Pizza = ('', '')\n",
      "1890- Golden Krust Caribbean Restaurant = ('', '')\n",
      "1891- Nature's Way Cafe = ('', '')\n",
      "1892- Planet Smoothie = ('', '')\n",
      "1893- Lucky's Bar & Grill = ('', '')\n",
      "1894- Daily's = ('', '')\n",
      "1895- The Burger Experience = ('', '')\n",
      "1896- Subway = ('', '')\n",
      "1897- 7-Eleven - Closed = ('', '')\n",
      "1898- Subway = ('', '')\n",
      "1899- Red Crab Juicy Seafood & Bar = ('', '')\n"
     ]
    }
   ],
   "source": [
    "gmaps = scrapy.ScrapearGMaps()\n",
    "cant = pl_coordenadas.shape[0]\n",
    "for i in range(1801,1900):\n",
    "    pos = gmaps.scrape(pl_coordenadas[i,'url'])\n",
    "    nombre = pl_coordenadas[i,'name']\n",
    "    print(f'{i}- {nombre} = {pos}')\n",
    "    if pos[0] != '': pl_coordenadas[i,'latitude1'] = float(pos[0])\n",
    "    if pos[1] != '': pl_coordenadas[i,'longitude1'] = float(pos[1])"
   ]
  },
  {
   "cell_type": "code",
   "execution_count": 8,
   "id": "9c22c6bc-a8a6-46f7-8426-150da0e28bfb",
   "metadata": {},
   "outputs": [],
   "source": [
    "def busca_coord(i):\n",
    "    pos = gmaps.scrape(pl_coordenadas[i,'url'])\n",
    "    nombre = pl_coordenadas[i,'name']\n",
    "    print(f'{i}- {nombre} = {pos}')\n",
    "    if pos[0] != '': pl_coordenadas[i,'latitude1'] = float(pos[0])\n",
    "    if pos[1] != '': pl_coordenadas[i,'longitude1'] = float(pos[1])"
   ]
  },
  {
   "cell_type": "code",
   "execution_count": 129,
   "id": "c0004b51-9dff-4362-827b-8bcea540fd8e",
   "metadata": {},
   "outputs": [
    {
     "name": "stdout",
     "output_type": "stream",
     "text": [
      "1545- Bar Louie = ('', '')\n"
     ]
    }
   ],
   "source": [
    "busca_coord(1545)"
   ]
  },
  {
   "cell_type": "code",
   "execution_count": 10,
   "id": "fb495f44-de3a-48ba-808a-d96c23d1376d",
   "metadata": {},
   "outputs": [],
   "source": [
    "def actualiza(i,pos):\n",
    "    pl_coordenadas[i,'latitude1'] = pos[0]\n",
    "    pl_coordenadas[i,'longitude1'] = pos[1]"
   ]
  },
  {
   "cell_type": "code",
   "execution_count": 130,
   "id": "838439e9-eaa1-4aee-84d0-c98d003917c4",
   "metadata": {},
   "outputs": [],
   "source": [
    "actualiza(1545,(37.0625,-95.677068))"
   ]
  },
  {
   "cell_type": "code",
   "execution_count": 139,
   "id": "d30a4afb-f9a0-47e2-a9fe-02f9da4863fc",
   "metadata": {},
   "outputs": [],
   "source": [
    "pl_coordenadas.write_csv('csv/coordenadas_FL.csv')"
   ]
  },
  {
   "cell_type": "code",
   "execution_count": null,
   "id": "6efbb07e-16c4-4919-9685-b57b87dbae12",
   "metadata": {},
   "outputs": [],
   "source": []
  }
 ],
 "metadata": {
  "kernelspec": {
   "display_name": "Python 3 (ipykernel)",
   "language": "python",
   "name": "python3"
  },
  "language_info": {
   "codemirror_mode": {
    "name": "ipython",
    "version": 3
   },
   "file_extension": ".py",
   "mimetype": "text/x-python",
   "name": "python",
   "nbconvert_exporter": "python",
   "pygments_lexer": "ipython3",
   "version": "3.10.5"
  }
 },
 "nbformat": 4,
 "nbformat_minor": 5
}
