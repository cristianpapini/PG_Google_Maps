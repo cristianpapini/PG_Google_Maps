{
 "cells": [
  {
   "cell_type": "code",
   "execution_count": 1,
   "id": "8a796d14-087c-4ede-af2b-efc4403a6002",
   "metadata": {},
   "outputs": [],
   "source": [
    "import pandas as pd\n",
    "import time\n",
    "import glob\n",
    "import duckdb\n",
    "import polars as pl"
   ]
  },
  {
   "cell_type": "markdown",
   "id": "241b730d-35d5-4e09-8787-134a4715fa9e",
   "metadata": {},
   "source": [
    "## Abriendo todos los json uno a uno"
   ]
  },
  {
   "cell_type": "code",
   "execution_count": 2,
   "id": "d2b33d1e-f9f0-4e81-934e-110003acd433",
   "metadata": {},
   "outputs": [],
   "source": [
    "cur_time = time.time()\n",
    "df1 = pd.read_json(\"Source Data/metadata-sitios/1.json\",lines=True)\n",
    "time_pandas1 = round((time.time() - cur_time),2)"
   ]
  },
  {
   "cell_type": "code",
   "execution_count": 3,
   "id": "cc431e1d-bcc1-4e7d-a31e-937993d09538",
   "metadata": {},
   "outputs": [],
   "source": [
    "cur_time = time.time()\n",
    "df2 = pd.read_json(\"Source Data/metadata-sitios/2.json\",lines=True)\n",
    "time_pandas2 = round((time.time() - cur_time),2)"
   ]
  },
  {
   "cell_type": "code",
   "execution_count": 4,
   "id": "b46f7cf2-921b-4d1d-85e2-0b6120970bc3",
   "metadata": {},
   "outputs": [],
   "source": [
    "cur_time = time.time()\n",
    "df3 = pd.read_json(\"Source Data/metadata-sitios/3.json\",lines=True)\n",
    "time_pandas3 = round((time.time() - cur_time),2)"
   ]
  },
  {
   "cell_type": "code",
   "execution_count": 5,
   "id": "94b63a8f-e487-4907-a97e-080e14370bf1",
   "metadata": {},
   "outputs": [],
   "source": [
    "cur_time = time.time()\n",
    "df4 = pd.read_json(\"Source Data/metadata-sitios/4.json\",lines=True)\n",
    "time_pandas4 = round((time.time() - cur_time),2)"
   ]
  },
  {
   "cell_type": "code",
   "execution_count": 6,
   "id": "20fb83ad-9cc6-4a13-85db-b48b8a760bce",
   "metadata": {},
   "outputs": [],
   "source": [
    "cur_time = time.time()\n",
    "df5 = pd.read_json(\"Source Data/metadata-sitios/5.json\",lines=True)\n",
    "time_pandas5 = round((time.time() - cur_time),2)"
   ]
  },
  {
   "cell_type": "code",
   "execution_count": 7,
   "id": "badfedd1-1a2a-4193-8095-710bd1c50402",
   "metadata": {},
   "outputs": [],
   "source": [
    "cur_time = time.time()\n",
    "df6 = pd.read_json(\"Source Data/metadata-sitios/6.json\",lines=True)\n",
    "time_pandas6 = round((time.time() - cur_time),2)"
   ]
  },
  {
   "cell_type": "code",
   "execution_count": 8,
   "id": "57215b90-7da4-4031-87fe-32500abd93a8",
   "metadata": {},
   "outputs": [],
   "source": [
    "cur_time = time.time()\n",
    "df7 = pd.read_json(\"Source Data/metadata-sitios/7.json\",lines=True)\n",
    "time_pandas7 = round((time.time() - cur_time),2)"
   ]
  },
  {
   "cell_type": "code",
   "execution_count": 9,
   "id": "0a13a22f-d507-4f18-850f-6c5b8ae0bcdc",
   "metadata": {},
   "outputs": [],
   "source": [
    "cur_time = time.time()\n",
    "df8 = pd.read_json(\"Source Data/metadata-sitios/8.json\",lines=True)\n",
    "time_pandas8 = round((time.time() - cur_time),2)"
   ]
  },
  {
   "cell_type": "code",
   "execution_count": 10,
   "id": "8fe3a85f-6c77-4b1e-a0ad-662bc7961d75",
   "metadata": {},
   "outputs": [],
   "source": [
    "cur_time = time.time()\n",
    "df9 = pd.read_json(\"Source Data/metadata-sitios/9.json\",lines=True)\n",
    "time_pandas9 = round((time.time() - cur_time),2)"
   ]
  },
  {
   "cell_type": "code",
   "execution_count": 11,
   "id": "026483c5-c1c7-4f14-b8b9-c0837a6184c7",
   "metadata": {},
   "outputs": [],
   "source": [
    "cur_time = time.time()\n",
    "df10 = pd.read_json(\"Source Data/metadata-sitios/10.json\",lines=True)\n",
    "time_pandas10 = round((time.time() - cur_time),2)"
   ]
  },
  {
   "cell_type": "code",
   "execution_count": 12,
   "id": "98e85f06-4b6d-4504-9ef0-041086f41be9",
   "metadata": {},
   "outputs": [],
   "source": [
    "cur_time = time.time()\n",
    "df11 = pd.read_json(\"Source Data/metadata-sitios/11.json\",lines=True)\n",
    "time_pandas11 = round((time.time() - cur_time),2)"
   ]
  },
  {
   "cell_type": "code",
   "execution_count": 14,
   "id": "c07e03a8-1b71-4a7f-b738-026d4814f709",
   "metadata": {},
   "outputs": [
    {
     "name": "stdout",
     "output_type": "stream",
     "text": [
      "<class 'pandas.core.frame.DataFrame'>\n",
      "RangeIndex: 275001 entries, 0 to 275000\n",
      "Data columns (total 15 columns):\n",
      " #   Column            Non-Null Count   Dtype  \n",
      "---  ------            --------------   -----  \n",
      " 0   name              274994 non-null  object \n",
      " 1   address           264939 non-null  object \n",
      " 2   gmap_id           275001 non-null  object \n",
      " 3   description       13155 non-null   object \n",
      " 4   latitude          275001 non-null  float64\n",
      " 5   longitude         275001 non-null  float64\n",
      " 6   category          272740 non-null  object \n",
      " 7   avg_rating        275001 non-null  float64\n",
      " 8   num_of_reviews    275001 non-null  int64  \n",
      " 9   price             13450 non-null   object \n",
      " 10  hours             192448 non-null  object \n",
      " 11  MISC              194972 non-null  object \n",
      " 12  state             195523 non-null  object \n",
      " 13  relative_results  238771 non-null  object \n",
      " 14  url               275001 non-null  object \n",
      "dtypes: float64(3), int64(1), object(11)\n",
      "memory usage: 31.5+ MB\n"
     ]
    }
   ],
   "source": [
    "df1.info()"
   ]
  },
  {
   "cell_type": "code",
   "execution_count": 16,
   "id": "ff75f7e2-12b3-41a2-9bfd-224d9a2f3e99",
   "metadata": {},
   "outputs": [],
   "source": [
    "def arreglo_cadenas(lista):\n",
    "    for dfr in lista:\n",
    "        dfr['hours'] = dfr['hours'].str.replace('\\n', ' ')\n",
    "        dfr['MISC'] = dfr['MISC'].str.replace('\\n', ' ')"
   ]
  },
  {
   "cell_type": "code",
   "execution_count": 17,
   "id": "21b5cc64-feb2-4a87-8c97-0bb3a2295cbf",
   "metadata": {},
   "outputs": [],
   "source": [
    "arreglo_cadenas([df1,df2,df3,df4,df5,df6,df7,df8,df9,df10,df11])"
   ]
  },
  {
   "cell_type": "code",
   "execution_count": 18,
   "id": "673545c8-c708-4ce4-b741-8ced4241cbe5",
   "metadata": {},
   "outputs": [],
   "source": [
    "def cambia_tipos(lista):\n",
    "    for dfr in lista:\n",
    "        dfr['latitude']       = dfr['latitude'].astype('float32')\n",
    "        dfr['longitude']      = dfr['longitude'].astype('float32')\n",
    "        dfr['avg_rating']     = dfr['avg_rating'].astype('float32')\n",
    "        dfr['num_of_reviews'] = dfr['num_of_reviews'].astype('int16')"
   ]
  },
  {
   "cell_type": "code",
   "execution_count": 19,
   "id": "417608b2-4c28-4f60-858c-b97e7d79d83a",
   "metadata": {},
   "outputs": [],
   "source": [
    "cambia_tipos([df1,df2,df3,df4,df5,df6,df7,df8,df9,df10,df11])"
   ]
  },
  {
   "cell_type": "code",
   "execution_count": 20,
   "id": "1451d31a-d60a-41a7-b613-019df5c5551f",
   "metadata": {},
   "outputs": [],
   "source": [
    "def salva_parquet(lista):\n",
    "    for i,dfr in enumerate(lista):\n",
    "        dfr.to_parquet(f'parquet/source/{i+1}.parquet')"
   ]
  },
  {
   "cell_type": "code",
   "execution_count": 21,
   "id": "46b6c7fa-066c-4fea-8fb4-44d550fd66f9",
   "metadata": {},
   "outputs": [],
   "source": [
    "salva_parquet([df1,df2,df3,df4,df5,df6,df7,df8,df9,df10,df11])"
   ]
  },
  {
   "cell_type": "markdown",
   "id": "70c7e4c3-61a2-4747-8c28-b8089953f319",
   "metadata": {},
   "source": [
    "## Leer con polars"
   ]
  },
  {
   "cell_type": "code",
   "execution_count": 2,
   "id": "3391b263-da7d-48ab-a0aa-141780f4986e",
   "metadata": {},
   "outputs": [
    {
     "name": "stdout",
     "output_type": "stream",
     "text": [
      "tiempo de lectura de todos los parquet usando polars en modo lazy = 3.88 segundos\n"
     ]
    }
   ],
   "source": [
    "#lazy\n",
    "cur_time = time.time()\n",
    "pl_df = (pl.scan_parquet('parquet/source/*.parquet').collect())\n",
    "time_polars = round((time.time() - cur_time),2)\n",
    "print(f\"tiempo de lectura de todos los parquet usando polars en modo lazy = {time_polars} segundos\")"
   ]
  },
  {
   "cell_type": "code",
   "execution_count": null,
   "id": "599cbee6-f05b-4dea-bd7f-87e8b3f7d7ea",
   "metadata": {},
   "outputs": [],
   "source": [
    "dicc = {\n",
    "    'tiempo':[time_pandas,time_pandas2,time_pandas3,time_pandas4,time_pandas5,time_pandas6,time_pandas7,time_pandas8,time_pandas9,time_pandas10,time_pandas11]\n",
    "}\n",
    "df_tiempo_pandas = pd.DataFrame(dicc,index=['time_pandas1','time_pandas2','time_pandas3','time_pandas4','time_pandas5',\n",
    "                                              'time_pandas6','time_pandas7','time_pandas8','time_pandas9','time_pandas10','time_pandas11'])\n",
    "print(f'Tiempo de lectura de los json en pandas = {round(df_tiempo_pandas.tiempo.sum()/60,2)} minutos')"
   ]
  },
  {
   "cell_type": "code",
   "execution_count": 5,
   "id": "7d617f6f-4424-42ab-ae6c-ea790e43dd82",
   "metadata": {},
   "outputs": [
    {
     "data": {
      "text/plain": [
       "(3025011, 15)"
      ]
     },
     "execution_count": 5,
     "metadata": {},
     "output_type": "execute_result"
    }
   ],
   "source": [
    "pl_df.shape"
   ]
  },
  {
   "cell_type": "markdown",
   "id": "a22f41ab-32ba-4f87-a5f7-31f4ee2f0b58",
   "metadata": {},
   "source": [
    "## Para salvar en formato csv tengo que convertir los tipos [] en strings"
   ]
  },
  {
   "cell_type": "code",
   "execution_count": 6,
   "id": "8b605d59-01c3-41b8-b5bb-ee2a54c4f35c",
   "metadata": {},
   "outputs": [
    {
     "name": "stdout",
     "output_type": "stream",
     "text": [
      "Tiempo = 85.36 segundos\n"
     ]
    }
   ],
   "source": [
    "cur_time = time.time()\n",
    "pl_df = (pl_df.lazy()\n",
    ".with_columns([\n",
    "    pl.col('category').apply(lambda x: ','.join(x)),\n",
    "    pl.col('relative_results').apply(lambda x: ','.join(x)) \n",
    "]).collect()\n",
    ")\n",
    "print(f'Tiempo = {round((time.time() - cur_time),2)} segundos')"
   ]
  },
  {
   "cell_type": "code",
   "execution_count": 7,
   "id": "07c10be5-5995-48a0-8d43-a9a740d0a84e",
   "metadata": {},
   "outputs": [
    {
     "data": {
      "text/html": [
       "<div>\n",
       "<style scoped>\n",
       "    .dataframe tbody tr th:only-of-type {\n",
       "        vertical-align: middle;\n",
       "    }\n",
       "\n",
       "    .dataframe tbody tr th {\n",
       "        vertical-align: top;\n",
       "    }\n",
       "\n",
       "    .dataframe thead th {\n",
       "        text-align: right;\n",
       "    }\n",
       "\n",
       "    .dataframe td {\n",
       "        white-space: pre;\n",
       "    }\n",
       "\n",
       "    .dataframe td {\n",
       "        padding-top: 0;\n",
       "    }\n",
       "\n",
       "    .dataframe td {\n",
       "        padding-bottom: 0;\n",
       "    }\n",
       "\n",
       "    .dataframe td {\n",
       "        line-height: 95%;\n",
       "    }\n",
       "</style>\n",
       "<table border=\"1\" class=\"dataframe\">\n",
       "<small>shape: (5, 15)</small>\n",
       "<thead>\n",
       "<tr>\n",
       "<th>\n",
       "name\n",
       "</th>\n",
       "<th>\n",
       "address\n",
       "</th>\n",
       "<th>\n",
       "gmap_id\n",
       "</th>\n",
       "<th>\n",
       "description\n",
       "</th>\n",
       "<th>\n",
       "latitude\n",
       "</th>\n",
       "<th>\n",
       "longitude\n",
       "</th>\n",
       "<th>\n",
       "category\n",
       "</th>\n",
       "<th>\n",
       "avg_rating\n",
       "</th>\n",
       "<th>\n",
       "num_of_reviews\n",
       "</th>\n",
       "<th>\n",
       "price\n",
       "</th>\n",
       "<th>\n",
       "hours\n",
       "</th>\n",
       "<th>\n",
       "MISC\n",
       "</th>\n",
       "<th>\n",
       "state\n",
       "</th>\n",
       "<th>\n",
       "relative_results\n",
       "</th>\n",
       "<th>\n",
       "url\n",
       "</th>\n",
       "</tr>\n",
       "<tr>\n",
       "<td>\n",
       "str\n",
       "</td>\n",
       "<td>\n",
       "str\n",
       "</td>\n",
       "<td>\n",
       "str\n",
       "</td>\n",
       "<td>\n",
       "str\n",
       "</td>\n",
       "<td>\n",
       "f32\n",
       "</td>\n",
       "<td>\n",
       "f32\n",
       "</td>\n",
       "<td>\n",
       "str\n",
       "</td>\n",
       "<td>\n",
       "f32\n",
       "</td>\n",
       "<td>\n",
       "i16\n",
       "</td>\n",
       "<td>\n",
       "str\n",
       "</td>\n",
       "<td>\n",
       "f64\n",
       "</td>\n",
       "<td>\n",
       "f64\n",
       "</td>\n",
       "<td>\n",
       "str\n",
       "</td>\n",
       "<td>\n",
       "str\n",
       "</td>\n",
       "<td>\n",
       "str\n",
       "</td>\n",
       "</tr>\n",
       "</thead>\n",
       "<tbody>\n",
       "<tr>\n",
       "<td>\n",
       "&quot;Porter Pharmac...\n",
       "</td>\n",
       "<td>\n",
       "&quot;Porter Pharmac...\n",
       "</td>\n",
       "<td>\n",
       "&quot;0x88f16e41928f...\n",
       "</td>\n",
       "<td>\n",
       "null\n",
       "</td>\n",
       "<td>\n",
       "32.388302\n",
       "</td>\n",
       "<td>\n",
       "-83.357101\n",
       "</td>\n",
       "<td>\n",
       "&quot;Pharmacy&quot;\n",
       "</td>\n",
       "<td>\n",
       "4.9\n",
       "</td>\n",
       "<td>\n",
       "16\n",
       "</td>\n",
       "<td>\n",
       "null\n",
       "</td>\n",
       "<td>\n",
       "null\n",
       "</td>\n",
       "<td>\n",
       "null\n",
       "</td>\n",
       "<td>\n",
       "&quot;Open ⋅ Closes ...\n",
       "</td>\n",
       "<td>\n",
       "&quot;0x88f16e419294...\n",
       "</td>\n",
       "<td>\n",
       "&quot;https://www.go...\n",
       "</td>\n",
       "</tr>\n",
       "<tr>\n",
       "<td>\n",
       "&quot;City Textile&quot;\n",
       "</td>\n",
       "<td>\n",
       "&quot;City Textile, ...\n",
       "</td>\n",
       "<td>\n",
       "&quot;0x80c2c98c0e3c...\n",
       "</td>\n",
       "<td>\n",
       "null\n",
       "</td>\n",
       "<td>\n",
       "34.01889\n",
       "</td>\n",
       "<td>\n",
       "-118.215286\n",
       "</td>\n",
       "<td>\n",
       "&quot;Textile export...\n",
       "</td>\n",
       "<td>\n",
       "4.5\n",
       "</td>\n",
       "<td>\n",
       "6\n",
       "</td>\n",
       "<td>\n",
       "null\n",
       "</td>\n",
       "<td>\n",
       "null\n",
       "</td>\n",
       "<td>\n",
       "null\n",
       "</td>\n",
       "<td>\n",
       "&quot;Open now&quot;\n",
       "</td>\n",
       "<td>\n",
       "&quot;0x80c2c624136e...\n",
       "</td>\n",
       "<td>\n",
       "&quot;https://www.go...\n",
       "</td>\n",
       "</tr>\n",
       "<tr>\n",
       "<td>\n",
       "&quot;San Soo Dang&quot;\n",
       "</td>\n",
       "<td>\n",
       "&quot;San Soo Dang, ...\n",
       "</td>\n",
       "<td>\n",
       "&quot;0x80c2c778e3b7...\n",
       "</td>\n",
       "<td>\n",
       "null\n",
       "</td>\n",
       "<td>\n",
       "34.05809\n",
       "</td>\n",
       "<td>\n",
       "-118.29213\n",
       "</td>\n",
       "<td>\n",
       "&quot;Korean restaur...\n",
       "</td>\n",
       "<td>\n",
       "4.4\n",
       "</td>\n",
       "<td>\n",
       "18\n",
       "</td>\n",
       "<td>\n",
       "null\n",
       "</td>\n",
       "<td>\n",
       "null\n",
       "</td>\n",
       "<td>\n",
       "null\n",
       "</td>\n",
       "<td>\n",
       "&quot;Open ⋅ Closes ...\n",
       "</td>\n",
       "<td>\n",
       "&quot;0x80c2c78249ab...\n",
       "</td>\n",
       "<td>\n",
       "&quot;https://www.go...\n",
       "</td>\n",
       "</tr>\n",
       "<tr>\n",
       "<td>\n",
       "&quot;Nova Fabrics&quot;\n",
       "</td>\n",
       "<td>\n",
       "&quot;Nova Fabrics, ...\n",
       "</td>\n",
       "<td>\n",
       "&quot;0x80c2c89923b2...\n",
       "</td>\n",
       "<td>\n",
       "null\n",
       "</td>\n",
       "<td>\n",
       "34.02367\n",
       "</td>\n",
       "<td>\n",
       "-118.232933\n",
       "</td>\n",
       "<td>\n",
       "&quot;Fabric store&quot;\n",
       "</td>\n",
       "<td>\n",
       "3.3\n",
       "</td>\n",
       "<td>\n",
       "6\n",
       "</td>\n",
       "<td>\n",
       "null\n",
       "</td>\n",
       "<td>\n",
       "null\n",
       "</td>\n",
       "<td>\n",
       "null\n",
       "</td>\n",
       "<td>\n",
       "&quot;Open ⋅ Closes ...\n",
       "</td>\n",
       "<td>\n",
       "&quot;0x80c2c8811477...\n",
       "</td>\n",
       "<td>\n",
       "&quot;https://www.go...\n",
       "</td>\n",
       "</tr>\n",
       "<tr>\n",
       "<td>\n",
       "&quot;Nobel Textile ...\n",
       "</td>\n",
       "<td>\n",
       "&quot;Nobel Textile ...\n",
       "</td>\n",
       "<td>\n",
       "&quot;0x80c2c632f933...\n",
       "</td>\n",
       "<td>\n",
       "null\n",
       "</td>\n",
       "<td>\n",
       "34.036694\n",
       "</td>\n",
       "<td>\n",
       "-118.24942\n",
       "</td>\n",
       "<td>\n",
       "&quot;Fabric store&quot;\n",
       "</td>\n",
       "<td>\n",
       "4.3\n",
       "</td>\n",
       "<td>\n",
       "7\n",
       "</td>\n",
       "<td>\n",
       "null\n",
       "</td>\n",
       "<td>\n",
       "null\n",
       "</td>\n",
       "<td>\n",
       "null\n",
       "</td>\n",
       "<td>\n",
       "&quot;Open ⋅ Closes ...\n",
       "</td>\n",
       "<td>\n",
       "&quot;0x80c2c62c4960...\n",
       "</td>\n",
       "<td>\n",
       "&quot;https://www.go...\n",
       "</td>\n",
       "</tr>\n",
       "</tbody>\n",
       "</table>\n",
       "</div>"
      ],
      "text/plain": [
       "shape: (5, 15)\n",
       "┌───────────────┬───────────────┬──────────────┬─────────────┬─────┬──────┬──────────────┬──────────────┬──────────────┐\n",
       "│ name          ┆ address       ┆ gmap_id      ┆ description ┆ ... ┆ MISC ┆ state        ┆ relative_res ┆ url          │\n",
       "│ ---           ┆ ---           ┆ ---          ┆ ---         ┆     ┆ ---  ┆ ---          ┆ ults         ┆ ---          │\n",
       "│ str           ┆ str           ┆ str          ┆ str         ┆     ┆ f64  ┆ str          ┆ ---          ┆ str          │\n",
       "│               ┆               ┆              ┆             ┆     ┆      ┆              ┆ str          ┆              │\n",
       "╞═══════════════╪═══════════════╪══════════════╪═════════════╪═════╪══════╪══════════════╪══════════════╪══════════════╡\n",
       "│ Porter        ┆ Porter        ┆ 0x88f16e4192 ┆ null        ┆ ... ┆ null ┆ Open ⋅       ┆ 0x88f16e4192 ┆ https://www. │\n",
       "│ Pharmacy      ┆ Pharmacy, 129 ┆ 8ff687:0x883 ┆             ┆     ┆      ┆ Closes 6PM   ┆ 9435cf:0x5b2 ┆ google.com/m │\n",
       "│               ┆ N Second      ┆ dad4fd04...  ┆             ┆     ┆      ┆              ┆ 532a2885...  ┆ aps/plac...  │\n",
       "│               ┆ St...         ┆              ┆             ┆     ┆      ┆              ┆              ┆              │\n",
       "│ City Textile  ┆ City Textile, ┆ 0x80c2c98c0e ┆ null        ┆ ... ┆ null ┆ Open now     ┆ 0x80c2c62413 ┆ https://www. │\n",
       "│               ┆ 3001 E Pico   ┆ 3c16fd:0x29e ┆             ┆     ┆      ┆              ┆ 6ea88b:0xb03 ┆ google.com/m │\n",
       "│               ┆ Blvd, ...     ┆ c8a72876...  ┆             ┆     ┆      ┆              ┆ 15367ed4...  ┆ aps/plac...  │\n",
       "│ San Soo Dang  ┆ San Soo Dang, ┆ 0x80c2c778e3 ┆ null        ┆ ... ┆ null ┆ Open ⋅       ┆ 0x80c2c78249 ┆ https://www. │\n",
       "│               ┆ 761 S Vermont ┆ b73d33:0xbdc ┆             ┆     ┆      ┆ Closes 6PM   ┆ aba68f:0x35b ┆ google.com/m │\n",
       "│               ┆ Ave,...       ┆ 58662a4a...  ┆             ┆     ┆      ┆              ┆ f16ce61b...  ┆ aps/plac...  │\n",
       "│ Nova Fabrics  ┆ Nova Fabrics, ┆ 0x80c2c89923 ┆ null        ┆ ... ┆ null ┆ Open ⋅       ┆ 0x80c2c88114 ┆ https://www. │\n",
       "│               ┆ 2200 E 11th   ┆ b27a41:0x320 ┆             ┆     ┆      ┆ Closes 5PM   ┆ 77253f:0x23a ┆ google.com/m │\n",
       "│               ┆ St, Lo...     ┆ 41559418...  ┆             ┆     ┆      ┆              ┆ 8a492df1...  ┆ aps/plac...  │\n",
       "│ Nobel Textile ┆ Nobel Textile ┆ 0x80c2c632f9 ┆ null        ┆ ... ┆ null ┆ Open ⋅       ┆ 0x80c2c62c49 ┆ https://www. │\n",
       "│ Co            ┆ Co, 719 E 9th ┆ 33b073:0xc31 ┆             ┆     ┆      ┆ Closes 5PM   ┆ 6083d1:0xdef ┆ google.com/m │\n",
       "│               ┆ St, ...       ┆ 785961fe...  ┆             ┆     ┆      ┆              ┆ a11317fe...  ┆ aps/plac...  │\n",
       "└───────────────┴───────────────┴──────────────┴─────────────┴─────┴──────┴──────────────┴──────────────┴──────────────┘"
      ]
     },
     "execution_count": 7,
     "metadata": {},
     "output_type": "execute_result"
    }
   ],
   "source": [
    "pl_df.head()"
   ]
  },
  {
   "cell_type": "code",
   "execution_count": 8,
   "id": "9b5a1e06-265f-44cf-9ba3-80015fc1fc43",
   "metadata": {},
   "outputs": [],
   "source": [
    "pl_df.write_parquet('parquet/sitios1.parquet')\n",
    "pl_df.write_csv('csv/sitios1.csv')"
   ]
  },
  {
   "cell_type": "code",
   "execution_count": null,
   "id": "c6d4012a-4475-4ba9-8de2-8158472842ca",
   "metadata": {},
   "outputs": [],
   "source": [
    "pd_df = pl_df.to_pandas()"
   ]
  },
  {
   "cell_type": "code",
   "execution_count": null,
   "id": "19c26e44-63c1-4e3d-bc8d-7bbc4766aad1",
   "metadata": {},
   "outputs": [],
   "source": []
  }
 ],
 "metadata": {
  "kernelspec": {
   "display_name": "Python 3 (ipykernel)",
   "language": "python",
   "name": "python3"
  },
  "language_info": {
   "codemirror_mode": {
    "name": "ipython",
    "version": 3
   },
   "file_extension": ".py",
   "mimetype": "text/x-python",
   "name": "python",
   "nbconvert_exporter": "python",
   "pygments_lexer": "ipython3",
   "version": "3.10.5"
  }
 },
 "nbformat": 4,
 "nbformat_minor": 5
}
