{
 "cells": [
  {
   "cell_type": "code",
   "execution_count": 1,
   "id": "8a796d14-087c-4ede-af2b-efc4403a6002",
   "metadata": {},
   "outputs": [],
   "source": [
    "import pandas as pd\n",
    "import time\n",
    "import glob\n",
    "import duckdb\n",
    "import polars as pl"
   ]
  },
  {
   "cell_type": "markdown",
   "id": "241b730d-35d5-4e09-8787-134a4715fa9e",
   "metadata": {},
   "source": [
    "## Abriendo todos los json uno a uno"
   ]
  },
  {
   "cell_type": "code",
   "execution_count": 2,
   "id": "d2b33d1e-f9f0-4e81-934e-110003acd433",
   "metadata": {},
   "outputs": [
    {
     "name": "stdout",
     "output_type": "stream",
     "text": [
      "df1 demoro 0.23 minutos\n"
     ]
    }
   ],
   "source": [
    "cur_time = time.time()\n",
    "df1 = pd.read_json(r\"C:\\Users\\ornal\\Desktop\\Proyecto\\Source Data\\metadata-sitios\\1.json\",lines=True)\n",
    "time_pandas = round((time.time() - cur_time),2)\n",
    "print(f\"df1 demoro {round(time_pandas/60,2)} minutos\")"
   ]
  },
  {
   "cell_type": "code",
   "execution_count": null,
   "id": "499b51b1-5947-42f0-a851-55fda38fd16e",
   "metadata": {},
   "outputs": [],
   "source": [
    "df1[df1['state']=='Permanently closed'].head()"
   ]
  },
  {
   "cell_type": "code",
   "execution_count": 3,
   "id": "cc431e1d-bcc1-4e7d-a31e-937993d09538",
   "metadata": {},
   "outputs": [],
   "source": [
    "cur_time = time.time()\n",
    "df2 = pd.read_json(r\"C:\\Users\\ornal\\Desktop\\Proyecto\\Source Data\\metadata-sitios\\2.json\",lines=True)\n",
    "time_pandas2 = round((time.time() - cur_time),2)"
   ]
  },
  {
   "cell_type": "code",
   "execution_count": 4,
   "id": "b46f7cf2-921b-4d1d-85e2-0b6120970bc3",
   "metadata": {},
   "outputs": [],
   "source": [
    "cur_time = time.time()\n",
    "df3 = pd.read_json(r\"C:\\Users\\ornal\\Desktop\\Proyecto\\Source Data\\metadata-sitios\\3.json\",lines=True)\n",
    "time_pandas3 = round((time.time() - cur_time),2)"
   ]
  },
  {
   "cell_type": "code",
   "execution_count": 5,
   "id": "94b63a8f-e487-4907-a97e-080e14370bf1",
   "metadata": {},
   "outputs": [],
   "source": [
    "cur_time = time.time()\n",
    "df4 = pd.read_json(r\"C:\\Users\\ornal\\Desktop\\Proyecto\\Source Data\\metadata-sitios\\4.json\",lines=True)\n",
    "time_pandas4 = round((time.time() - cur_time),2)"
   ]
  },
  {
   "cell_type": "code",
   "execution_count": 6,
   "id": "20fb83ad-9cc6-4a13-85db-b48b8a760bce",
   "metadata": {},
   "outputs": [],
   "source": [
    "cur_time = time.time()\n",
    "df5 = pd.read_json(r\"C:\\Users\\ornal\\Desktop\\Proyecto\\Source Data\\metadata-sitios\\5.json\",lines=True)\n",
    "time_pandas5 = round((time.time() - cur_time),2)"
   ]
  },
  {
   "cell_type": "code",
   "execution_count": 7,
   "id": "badfedd1-1a2a-4193-8095-710bd1c50402",
   "metadata": {},
   "outputs": [],
   "source": [
    "cur_time = time.time()\n",
    "df6 = pd.read_json(r\"C:\\Users\\ornal\\Desktop\\Proyecto\\Source Data\\metadata-sitios\\6.json\",lines=True)\n",
    "time_pandas6 = round((time.time() - cur_time),2)"
   ]
  },
  {
   "cell_type": "code",
   "execution_count": 8,
   "id": "57215b90-7da4-4031-87fe-32500abd93a8",
   "metadata": {},
   "outputs": [],
   "source": [
    "cur_time = time.time()\n",
    "df7 = pd.read_json(r\"C:\\Users\\ornal\\Desktop\\Proyecto\\Source Data\\metadata-sitios\\7.json\",lines=True)\n",
    "time_pandas7 = round((time.time() - cur_time),2)"
   ]
  },
  {
   "cell_type": "code",
   "execution_count": 9,
   "id": "0a13a22f-d507-4f18-850f-6c5b8ae0bcdc",
   "metadata": {},
   "outputs": [],
   "source": [
    "cur_time = time.time()\n",
    "df8 = pd.read_json(r\"C:\\Users\\ornal\\Desktop\\Proyecto\\Source Data\\metadata-sitios\\8.json\",lines=True)\n",
    "time_pandas8 = round((time.time() - cur_time),2)"
   ]
  },
  {
   "cell_type": "code",
   "execution_count": 10,
   "id": "8fe3a85f-6c77-4b1e-a0ad-662bc7961d75",
   "metadata": {},
   "outputs": [],
   "source": [
    "cur_time = time.time()\n",
    "df9 = pd.read_json(r\"C:\\Users\\ornal\\Desktop\\Proyecto\\Source Data\\metadata-sitios\\9.json\",lines=True)\n",
    "time_pandas9 = round((time.time() - cur_time),2)"
   ]
  },
  {
   "cell_type": "code",
   "execution_count": 11,
   "id": "026483c5-c1c7-4f14-b8b9-c0837a6184c7",
   "metadata": {},
   "outputs": [],
   "source": [
    "cur_time = time.time()\n",
    "df10 = pd.read_json(r\"C:\\Users\\ornal\\Desktop\\Proyecto\\Source Data\\metadata-sitios\\10.json\",lines=True)\n",
    "time_pandas10 = round((time.time() - cur_time),2)"
   ]
  },
  {
   "cell_type": "code",
   "execution_count": 12,
   "id": "98e85f06-4b6d-4504-9ef0-041086f41be9",
   "metadata": {},
   "outputs": [
    {
     "name": "stderr",
     "output_type": "stream",
     "text": [
      "error uploading: HTTPSConnectionPool(host='api.segment.io', port=443): Max retries exceeded with url: /v1/batch (Caused by NewConnectionError('<urllib3.connection.HTTPSConnection object at 0x000001C5575B9420>: Failed to establish a new connection: [Errno 11001] getaddrinfo failed'))\n"
     ]
    }
   ],
   "source": [
    "cur_time = time.time()\n",
    "df11 = pd.read_json(r\"C:\\Users\\ornal\\Desktop\\Proyecto\\Source Data\\metadata-sitios\\11.json\",lines=True)\n",
    "time_pandas11 = round((time.time() - cur_time),2)"
   ]
  },
  {
   "cell_type": "code",
   "execution_count": 13,
   "id": "c07e03a8-1b71-4a7f-b738-026d4814f709",
   "metadata": {},
   "outputs": [
    {
     "data": {
      "text/plain": [
       "Index(['name', 'address', 'gmap_id', 'description', 'latitude', 'longitude',\n",
       "       'category', 'avg_rating', 'num_of_reviews', 'price', 'hours', 'MISC',\n",
       "       'state', 'relative_results', 'url'],\n",
       "      dtype='object')"
      ]
     },
     "execution_count": 13,
     "metadata": {},
     "output_type": "execute_result"
    }
   ],
   "source": [
    "df1.columns"
   ]
  },
  {
   "cell_type": "code",
   "execution_count": 4,
   "id": "ff75f7e2-12b3-41a2-9bfd-224d9a2f3e99",
   "metadata": {},
   "outputs": [],
   "source": [
    "df1['hours'] = df1['hours'].str.replace('\\n', ' ')\n",
    "df1['MISC'] = df1['MISC'].str.replace('\\n', ' ')"
   ]
  },
  {
   "cell_type": "code",
   "execution_count": 15,
   "id": "6de719e6-84b6-498a-b6e1-a980905224c8",
   "metadata": {},
   "outputs": [],
   "source": [
    "df2['hours'] = df2['hours'].str.replace('\\n', ' ')\n",
    "df2['MISC'] = df2['MISC'].str.replace('\\n', ' ')"
   ]
  },
  {
   "cell_type": "code",
   "execution_count": 16,
   "id": "5bf60921-cc73-4321-a010-14d462b286ce",
   "metadata": {},
   "outputs": [],
   "source": [
    "df3['hours'] = df3['hours'].str.replace('\\n', ' ')\n",
    "df3['MISC'] = df3['MISC'].str.replace('\\n', ' ')"
   ]
  },
  {
   "cell_type": "code",
   "execution_count": 17,
   "id": "965fd5d7-e494-4bde-9193-3be6388d3c07",
   "metadata": {},
   "outputs": [],
   "source": [
    "df4['hours'] = df4['hours'].str.replace('\\n', ' ')\n",
    "df4['MISC'] = df4['MISC'].str.replace('\\n', ' ')"
   ]
  },
  {
   "cell_type": "code",
   "execution_count": 18,
   "id": "49c385fd-6990-4deb-9578-2b787e26de34",
   "metadata": {},
   "outputs": [],
   "source": [
    "df5['hours'] = df5['hours'].str.replace('\\n', ' ')\n",
    "df5['MISC'] = df5['MISC'].str.replace('\\n', ' ')"
   ]
  },
  {
   "cell_type": "code",
   "execution_count": 19,
   "id": "fc0c0bd9-8ac4-400f-b2f2-503ee21743ff",
   "metadata": {},
   "outputs": [],
   "source": [
    "df6['hours'] = df6['hours'].str.replace('\\n', ' ')\n",
    "df6['MISC'] = df6['MISC'].str.replace('\\n', ' ')"
   ]
  },
  {
   "cell_type": "code",
   "execution_count": 20,
   "id": "c1c61e2c-3c5c-4679-9ad9-cc22cb85b255",
   "metadata": {},
   "outputs": [],
   "source": [
    "df7['hours'] = df7['hours'].str.replace('\\n', ' ')\n",
    "df7['MISC'] = df7['MISC'].str.replace('\\n', ' ')"
   ]
  },
  {
   "cell_type": "code",
   "execution_count": 21,
   "id": "0590fa9e-a977-491d-a217-4d8f273ad5c0",
   "metadata": {},
   "outputs": [],
   "source": [
    "df8['hours'] = df8['hours'].str.replace('\\n', ' ')\n",
    "df8['MISC'] = df8['MISC'].str.replace('\\n', ' ')"
   ]
  },
  {
   "cell_type": "code",
   "execution_count": 22,
   "id": "f34cfd46-da09-4072-ac10-04e630861d7d",
   "metadata": {},
   "outputs": [],
   "source": [
    "df9['hours'] = df9['hours'].str.replace('\\n', ' ')\n",
    "df9['MISC'] = df9['MISC'].str.replace('\\n', ' ')"
   ]
  },
  {
   "cell_type": "code",
   "execution_count": 23,
   "id": "85508bc5-930d-4fd7-b72a-23454b97fca5",
   "metadata": {},
   "outputs": [],
   "source": [
    "df10['hours'] = df10['hours'].str.replace('\\n', ' ')\n",
    "df10['MISC'] = df10['MISC'].str.replace('\\n', ' ')"
   ]
  },
  {
   "cell_type": "code",
   "execution_count": 24,
   "id": "c5668d3a-c0c5-457b-964e-4424f0f4156a",
   "metadata": {},
   "outputs": [],
   "source": [
    "df11['hours'] = df11['hours'].str.replace('\\n', ' ')\n",
    "df11['MISC'] = df11['MISC'].str.replace('\\n', ' ')"
   ]
  },
  {
   "cell_type": "code",
   "execution_count": 5,
   "id": "21b5cc64-feb2-4a87-8c97-0bb3a2295cbf",
   "metadata": {},
   "outputs": [
    {
     "name": "stdout",
     "output_type": "stream",
     "text": [
      "<class 'pandas.core.frame.DataFrame'>\n",
      "RangeIndex: 275001 entries, 0 to 275000\n",
      "Data columns (total 15 columns):\n",
      " #   Column            Non-Null Count   Dtype  \n",
      "---  ------            --------------   -----  \n",
      " 0   name              274994 non-null  object \n",
      " 1   address           264939 non-null  object \n",
      " 2   gmap_id           275001 non-null  object \n",
      " 3   description       13155 non-null   object \n",
      " 4   latitude          275001 non-null  float64\n",
      " 5   longitude         275001 non-null  float64\n",
      " 6   category          272740 non-null  object \n",
      " 7   avg_rating        275001 non-null  float64\n",
      " 8   num_of_reviews    275001 non-null  int64  \n",
      " 9   price             13450 non-null   object \n",
      " 10  hours             0 non-null       float64\n",
      " 11  MISC              0 non-null       float64\n",
      " 12  state             195523 non-null  object \n",
      " 13  relative_results  238771 non-null  object \n",
      " 14  url               275001 non-null  object \n",
      "dtypes: float64(5), int64(1), object(9)\n",
      "memory usage: 31.5+ MB\n"
     ]
    }
   ],
   "source": [
    "df1.info()"
   ]
  },
  {
   "cell_type": "code",
   "execution_count": 6,
   "id": "673545c8-c708-4ce4-b741-8ced4241cbe5",
   "metadata": {},
   "outputs": [],
   "source": [
    "df1['latitude'] = df1['latitude'].astype('float32')\n",
    "df1['longitude'] = df1['longitude'].astype('float32')\n",
    "df1['avg_rating'] = df1['avg_rating'].astype('int8')\n",
    "df1['num_of_reviews'] = df1['num_of_reviews'].astype('int16')"
   ]
  },
  {
   "cell_type": "code",
   "execution_count": 7,
   "id": "417608b2-4c28-4f60-858c-b97e7d79d83a",
   "metadata": {},
   "outputs": [
    {
     "name": "stdout",
     "output_type": "stream",
     "text": [
      "<class 'pandas.core.frame.DataFrame'>\n",
      "RangeIndex: 275001 entries, 0 to 275000\n",
      "Data columns (total 15 columns):\n",
      " #   Column            Non-Null Count   Dtype  \n",
      "---  ------            --------------   -----  \n",
      " 0   name              274994 non-null  object \n",
      " 1   address           264939 non-null  object \n",
      " 2   gmap_id           275001 non-null  object \n",
      " 3   description       13155 non-null   object \n",
      " 4   latitude          275001 non-null  float32\n",
      " 5   longitude         275001 non-null  float32\n",
      " 6   category          272740 non-null  object \n",
      " 7   avg_rating        275001 non-null  int8   \n",
      " 8   num_of_reviews    275001 non-null  int16  \n",
      " 9   price             13450 non-null   object \n",
      " 10  hours             0 non-null       float64\n",
      " 11  MISC              0 non-null       float64\n",
      " 12  state             195523 non-null  object \n",
      " 13  relative_results  238771 non-null  object \n",
      " 14  url               275001 non-null  object \n",
      "dtypes: float32(2), float64(2), int16(1), int8(1), object(9)\n",
      "memory usage: 26.0+ MB\n"
     ]
    }
   ],
   "source": [
    "df1.info()"
   ]
  },
  {
   "cell_type": "code",
   "execution_count": 48,
   "id": "a997558d-c402-4679-a367-6da5585232af",
   "metadata": {},
   "outputs": [],
   "source": [
    "df2['latitude'] = df2['latitude'].astype('float32')\n",
    "df2['longitude'] = df2['longitude'].astype('float32')\n",
    "df2['avg_rating'] = df2['avg_rating'].astype('int8')\n",
    "df2['num_of_reviews'] = df2['num_of_reviews'].astype('int16')"
   ]
  },
  {
   "cell_type": "code",
   "execution_count": 49,
   "id": "fe269c77-38b1-484b-9432-0f5761db1858",
   "metadata": {},
   "outputs": [],
   "source": [
    "df3['latitude'] = df3['latitude'].astype('float32')\n",
    "df3['longitude'] = df3['longitude'].astype('float32')\n",
    "df3['avg_rating'] = df3['avg_rating'].astype('int8')\n",
    "df3['num_of_reviews'] = df3['num_of_reviews'].astype('int16')"
   ]
  },
  {
   "cell_type": "code",
   "execution_count": 50,
   "id": "fa954b53-43cb-400c-970a-1338bf54f7c0",
   "metadata": {},
   "outputs": [],
   "source": [
    "df4['latitude'] = df4['latitude'].astype('float32')\n",
    "df4['longitude'] = df4['longitude'].astype('float32')\n",
    "df4['avg_rating'] = df4['avg_rating'].astype('int8')\n",
    "df4['num_of_reviews'] = df4['num_of_reviews'].astype('int16')"
   ]
  },
  {
   "cell_type": "code",
   "execution_count": 51,
   "id": "6c8e3276-6622-48c0-bf49-f88b5b73fdb3",
   "metadata": {},
   "outputs": [],
   "source": [
    "df5['latitude'] = df5['latitude'].astype('float32')\n",
    "df5['longitude'] = df5['longitude'].astype('float32')\n",
    "df5['avg_rating'] = df5['avg_rating'].astype('int8')\n",
    "df5['num_of_reviews'] = df5['num_of_reviews'].astype('int16')"
   ]
  },
  {
   "cell_type": "code",
   "execution_count": 52,
   "id": "47ed22ba-20be-40e8-8e65-1620f2dc373f",
   "metadata": {},
   "outputs": [],
   "source": [
    "df6['latitude'] = df6['latitude'].astype('float32')\n",
    "df6['longitude'] = df6['longitude'].astype('float32')\n",
    "df6['avg_rating'] = df6['avg_rating'].astype('int8')\n",
    "df6['num_of_reviews'] = df6['num_of_reviews'].astype('int16')"
   ]
  },
  {
   "cell_type": "code",
   "execution_count": 53,
   "id": "9edd5981-a646-4609-9562-b0e26b522e54",
   "metadata": {},
   "outputs": [],
   "source": [
    "df7['latitude'] = df7['latitude'].astype('float32')\n",
    "df7['longitude'] = df7['longitude'].astype('float32')\n",
    "df7['avg_rating'] = df7['avg_rating'].astype('int8')\n",
    "df7['num_of_reviews'] = df7['num_of_reviews'].astype('int16')"
   ]
  },
  {
   "cell_type": "code",
   "execution_count": 54,
   "id": "2303394b-55ed-418e-a4ec-aec267c1ad3e",
   "metadata": {},
   "outputs": [],
   "source": [
    "df8['latitude'] = df8['latitude'].astype('float32')\n",
    "df8['longitude'] = df8['longitude'].astype('float32')\n",
    "df8['avg_rating'] = df8['avg_rating'].astype('int8')\n",
    "df8['num_of_reviews'] = df8['num_of_reviews'].astype('int16')"
   ]
  },
  {
   "cell_type": "code",
   "execution_count": 55,
   "id": "c6044d22-268a-493d-8302-5fb51442e86e",
   "metadata": {},
   "outputs": [],
   "source": [
    "df9['latitude'] = df9['latitude'].astype('float32')\n",
    "df9['longitude'] = df9['longitude'].astype('float32')\n",
    "df9['avg_rating'] = df9['avg_rating'].astype('int8')\n",
    "df9['num_of_reviews'] = df9['num_of_reviews'].astype('int16')"
   ]
  },
  {
   "cell_type": "code",
   "execution_count": 56,
   "id": "98d03fc8-e932-4c64-96de-30d354fcd56a",
   "metadata": {},
   "outputs": [],
   "source": [
    "df10['latitude'] = df10['latitude'].astype('float32')\n",
    "df10['longitude'] = df10['longitude'].astype('float32')\n",
    "df10['avg_rating'] = df10['avg_rating'].astype('int8')\n",
    "df10['num_of_reviews'] = df10['num_of_reviews'].astype('int16')"
   ]
  },
  {
   "cell_type": "code",
   "execution_count": 57,
   "id": "9217eaa0-af3e-4d29-9028-97564edf2389",
   "metadata": {},
   "outputs": [],
   "source": [
    "df11['latitude'] = df11['latitude'].astype('float32')\n",
    "df11['longitude'] = df11['longitude'].astype('float32')\n",
    "df11['avg_rating'] = df11['avg_rating'].astype('int8')\n",
    "df11['num_of_reviews'] = df11['num_of_reviews'].astype('int16')"
   ]
  },
  {
   "cell_type": "code",
   "execution_count": 73,
   "id": "1451d31a-d60a-41a7-b613-019df5c5551f",
   "metadata": {},
   "outputs": [],
   "source": [
    "df1.to_parquet(r'C:\\Users\\ornal\\Desktop\\Proyecto\\parquet\\sitios\\1.parquet')"
   ]
  },
  {
   "cell_type": "code",
   "execution_count": 74,
   "id": "48bc5fe3-ff35-4a4b-a91e-96bb5b6a8079",
   "metadata": {},
   "outputs": [],
   "source": [
    "df2.to_parquet(r'C:\\Users\\ornal\\Desktop\\Proyecto\\parquet\\sitios\\2.parquet')"
   ]
  },
  {
   "cell_type": "code",
   "execution_count": 75,
   "id": "d0ac597f-aa37-4d43-8907-5b550d7da55e",
   "metadata": {},
   "outputs": [],
   "source": [
    "df3.to_parquet(r'C:\\Users\\ornal\\Desktop\\Proyecto\\parquet\\sitios\\3.parquet')"
   ]
  },
  {
   "cell_type": "code",
   "execution_count": 76,
   "id": "a25bcee5-ad87-4ae8-8624-937c7317fcb6",
   "metadata": {},
   "outputs": [],
   "source": [
    "df4.to_parquet(r'C:\\Users\\ornal\\Desktop\\Proyecto\\parquet\\sitios\\4.parquet')"
   ]
  },
  {
   "cell_type": "code",
   "execution_count": 77,
   "id": "c6b34907-f04b-4e8f-8c2f-7077f3bf9fa8",
   "metadata": {},
   "outputs": [],
   "source": [
    "df5.to_parquet(r'C:\\Users\\ornal\\Desktop\\Proyecto\\parquet\\sitios\\5.parquet')"
   ]
  },
  {
   "cell_type": "code",
   "execution_count": 78,
   "id": "1207cfb7-a930-48f6-9090-05f834320d18",
   "metadata": {},
   "outputs": [],
   "source": [
    "df6.to_parquet(r'C:\\Users\\ornal\\Desktop\\Proyecto\\parquet\\sitios\\6.parquet')"
   ]
  },
  {
   "cell_type": "code",
   "execution_count": 79,
   "id": "33c14d83-b532-414b-bdb6-457c98903ea9",
   "metadata": {},
   "outputs": [],
   "source": [
    "df7.to_parquet(r'C:\\Users\\ornal\\Desktop\\Proyecto\\parquet\\sitios\\7.parquet')"
   ]
  },
  {
   "cell_type": "code",
   "execution_count": 80,
   "id": "bd8b463f-b69c-435d-a582-7e70494e8b9d",
   "metadata": {},
   "outputs": [],
   "source": [
    "df8.to_parquet(r'C:\\Users\\ornal\\Desktop\\Proyecto\\parquet\\sitios\\8.parquet')"
   ]
  },
  {
   "cell_type": "code",
   "execution_count": 81,
   "id": "03200964-77d7-4f1c-aaad-b9dd5781e544",
   "metadata": {},
   "outputs": [],
   "source": [
    "df9.to_parquet(r'C:\\Users\\ornal\\Desktop\\Proyecto\\parquet\\sitios\\9.parquet')"
   ]
  },
  {
   "cell_type": "code",
   "execution_count": 82,
   "id": "b3d8cad8-a2a8-467a-ae05-fa904414ad6a",
   "metadata": {},
   "outputs": [],
   "source": [
    "df10.to_parquet(r'C:\\Users\\ornal\\Desktop\\Proyecto\\parquet\\sitios\\10.parquet')"
   ]
  },
  {
   "cell_type": "code",
   "execution_count": 83,
   "id": "7ca41ee1-37a7-476c-8cbe-448cdc0887aa",
   "metadata": {},
   "outputs": [],
   "source": [
    "df11.to_parquet(r'C:\\Users\\ornal\\Desktop\\Proyecto\\parquet\\sitios\\11.parquet')"
   ]
  },
  {
   "cell_type": "markdown",
   "id": "70c7e4c3-61a2-4747-8c28-b8089953f319",
   "metadata": {},
   "source": [
    "## Leer con polars"
   ]
  },
  {
   "cell_type": "code",
   "execution_count": 2,
   "id": "3391b263-da7d-48ab-a0aa-141780f4986e",
   "metadata": {},
   "outputs": [
    {
     "name": "stdout",
     "output_type": "stream",
     "text": [
      "tiempo de lectura de todos los parquet usando polars en modo lazy = 3.69 segundos\n"
     ]
    }
   ],
   "source": [
    "#lazy\n",
    "cur_time = time.time()\n",
    "pl_df = (pl.scan_parquet('parquet/source/*.parquet').collect())\n",
    "time_polars = round((time.time() - cur_time),2)\n",
    "print(f\"tiempo de lectura de todos los parquet usando polars en modo lazy = {time_polars} segundos\")"
   ]
  },
  {
   "cell_type": "code",
   "execution_count": 110,
   "id": "599cbee6-f05b-4dea-bd7f-87e8b3f7d7ea",
   "metadata": {},
   "outputs": [
    {
     "name": "stdout",
     "output_type": "stream",
     "text": [
      "Tiempo de lectura de los json en pandas = 38.65 minutos\n"
     ]
    }
   ],
   "source": [
    "dicc = {\n",
    "    'tiempo':[time_pandas,time_pandas2,time_pandas3,time_pandas4,time_pandas5,time_pandas6,time_pandas7,time_pandas8,time_pandas9,time_pandas10,time_pandas11]\n",
    "}\n",
    "df_tiempo_pandas = pd.DataFrame(dicc,index=['time_pandas1','time_pandas2','time_pandas3','time_pandas4','time_pandas5',\n",
    "                                              'time_pandas6','time_pandas7','time_pandas8','time_pandas9','time_pandas10','time_pandas11'])\n",
    "print(f'Tiempo de lectura de los json en pandas = {round(df_tiempo_pandas.tiempo.sum()/60,2)} minutos')"
   ]
  },
  {
   "cell_type": "code",
   "execution_count": 3,
   "id": "7d617f6f-4424-42ab-ae6c-ea790e43dd82",
   "metadata": {},
   "outputs": [
    {
     "data": {
      "text/plain": [
       "(3025011, 15)"
      ]
     },
     "execution_count": 3,
     "metadata": {},
     "output_type": "execute_result"
    }
   ],
   "source": [
    "pl_df.shape"
   ]
  },
  {
   "cell_type": "markdown",
   "id": "a22f41ab-32ba-4f87-a5f7-31f4ee2f0b58",
   "metadata": {},
   "source": [
    "## Para salvar en formato csv tengo que convertir los tipos [] en strings"
   ]
  },
  {
   "cell_type": "code",
   "execution_count": 4,
   "id": "8b605d59-01c3-41b8-b5bb-ee2a54c4f35c",
   "metadata": {},
   "outputs": [
    {
     "name": "stdout",
     "output_type": "stream",
     "text": [
      "Tiempo = 106.21 segundos\n"
     ]
    }
   ],
   "source": [
    "cur_time = time.time()\n",
    "pl_df = (pl_df.lazy()\n",
    ".with_columns([\n",
    "    pl.col('category').apply(lambda x: ','.join(x)),\n",
    "    pl.col('relative_results').apply(lambda x: ','.join(x)) \n",
    "]).collect()\n",
    ")\n",
    "print(f'Tiempo = {round((time.time() - cur_time),2)} segundos')"
   ]
  },
  {
   "cell_type": "code",
   "execution_count": 5,
   "id": "07c10be5-5995-48a0-8d43-a9a740d0a84e",
   "metadata": {},
   "outputs": [
    {
     "data": {
      "text/html": [
       "<div>\n",
       "<style scoped>\n",
       "    .dataframe tbody tr th:only-of-type {\n",
       "        vertical-align: middle;\n",
       "    }\n",
       "\n",
       "    .dataframe tbody tr th {\n",
       "        vertical-align: top;\n",
       "    }\n",
       "\n",
       "    .dataframe thead th {\n",
       "        text-align: right;\n",
       "    }\n",
       "\n",
       "    .dataframe td {\n",
       "        white-space: pre;\n",
       "    }\n",
       "\n",
       "    .dataframe td {\n",
       "        padding-top: 0;\n",
       "    }\n",
       "\n",
       "    .dataframe td {\n",
       "        padding-bottom: 0;\n",
       "    }\n",
       "\n",
       "    .dataframe td {\n",
       "        line-height: 95%;\n",
       "    }\n",
       "</style>\n",
       "<table border=\"1\" class=\"dataframe\">\n",
       "<small>shape: (5, 15)</small>\n",
       "<thead>\n",
       "<tr>\n",
       "<th>\n",
       "name\n",
       "</th>\n",
       "<th>\n",
       "address\n",
       "</th>\n",
       "<th>\n",
       "gmap_id\n",
       "</th>\n",
       "<th>\n",
       "description\n",
       "</th>\n",
       "<th>\n",
       "latitude\n",
       "</th>\n",
       "<th>\n",
       "longitude\n",
       "</th>\n",
       "<th>\n",
       "category\n",
       "</th>\n",
       "<th>\n",
       "avg_rating\n",
       "</th>\n",
       "<th>\n",
       "num_of_reviews\n",
       "</th>\n",
       "<th>\n",
       "price\n",
       "</th>\n",
       "<th>\n",
       "hours\n",
       "</th>\n",
       "<th>\n",
       "MISC\n",
       "</th>\n",
       "<th>\n",
       "state\n",
       "</th>\n",
       "<th>\n",
       "relative_results\n",
       "</th>\n",
       "<th>\n",
       "url\n",
       "</th>\n",
       "</tr>\n",
       "<tr>\n",
       "<td>\n",
       "str\n",
       "</td>\n",
       "<td>\n",
       "str\n",
       "</td>\n",
       "<td>\n",
       "str\n",
       "</td>\n",
       "<td>\n",
       "str\n",
       "</td>\n",
       "<td>\n",
       "f32\n",
       "</td>\n",
       "<td>\n",
       "f32\n",
       "</td>\n",
       "<td>\n",
       "str\n",
       "</td>\n",
       "<td>\n",
       "i8\n",
       "</td>\n",
       "<td>\n",
       "i16\n",
       "</td>\n",
       "<td>\n",
       "str\n",
       "</td>\n",
       "<td>\n",
       "f64\n",
       "</td>\n",
       "<td>\n",
       "f64\n",
       "</td>\n",
       "<td>\n",
       "str\n",
       "</td>\n",
       "<td>\n",
       "str\n",
       "</td>\n",
       "<td>\n",
       "str\n",
       "</td>\n",
       "</tr>\n",
       "</thead>\n",
       "<tbody>\n",
       "<tr>\n",
       "<td>\n",
       "&quot;Porter Pharmac...\n",
       "</td>\n",
       "<td>\n",
       "&quot;Porter Pharmac...\n",
       "</td>\n",
       "<td>\n",
       "&quot;0x88f16e41928f...\n",
       "</td>\n",
       "<td>\n",
       "null\n",
       "</td>\n",
       "<td>\n",
       "32.375\n",
       "</td>\n",
       "<td>\n",
       "-83.375\n",
       "</td>\n",
       "<td>\n",
       "&quot;Pharmacy&quot;\n",
       "</td>\n",
       "<td>\n",
       "4\n",
       "</td>\n",
       "<td>\n",
       "16\n",
       "</td>\n",
       "<td>\n",
       "null\n",
       "</td>\n",
       "<td>\n",
       "null\n",
       "</td>\n",
       "<td>\n",
       "null\n",
       "</td>\n",
       "<td>\n",
       "&quot;Open ⋅ Closes ...\n",
       "</td>\n",
       "<td>\n",
       "&quot;0x88f16e419294...\n",
       "</td>\n",
       "<td>\n",
       "&quot;https://www.go...\n",
       "</td>\n",
       "</tr>\n",
       "<tr>\n",
       "<td>\n",
       "&quot;City Textile&quot;\n",
       "</td>\n",
       "<td>\n",
       "&quot;City Textile, ...\n",
       "</td>\n",
       "<td>\n",
       "&quot;0x80c2c98c0e3c...\n",
       "</td>\n",
       "<td>\n",
       "null\n",
       "</td>\n",
       "<td>\n",
       "34.03125\n",
       "</td>\n",
       "<td>\n",
       "-118.1875\n",
       "</td>\n",
       "<td>\n",
       "&quot;Textile export...\n",
       "</td>\n",
       "<td>\n",
       "4\n",
       "</td>\n",
       "<td>\n",
       "6\n",
       "</td>\n",
       "<td>\n",
       "null\n",
       "</td>\n",
       "<td>\n",
       "null\n",
       "</td>\n",
       "<td>\n",
       "null\n",
       "</td>\n",
       "<td>\n",
       "&quot;Open now&quot;\n",
       "</td>\n",
       "<td>\n",
       "&quot;0x80c2c624136e...\n",
       "</td>\n",
       "<td>\n",
       "&quot;https://www.go...\n",
       "</td>\n",
       "</tr>\n",
       "<tr>\n",
       "<td>\n",
       "&quot;San Soo Dang&quot;\n",
       "</td>\n",
       "<td>\n",
       "&quot;San Soo Dang, ...\n",
       "</td>\n",
       "<td>\n",
       "&quot;0x80c2c778e3b7...\n",
       "</td>\n",
       "<td>\n",
       "null\n",
       "</td>\n",
       "<td>\n",
       "34.0625\n",
       "</td>\n",
       "<td>\n",
       "-118.3125\n",
       "</td>\n",
       "<td>\n",
       "&quot;Korean restaur...\n",
       "</td>\n",
       "<td>\n",
       "4\n",
       "</td>\n",
       "<td>\n",
       "18\n",
       "</td>\n",
       "<td>\n",
       "null\n",
       "</td>\n",
       "<td>\n",
       "null\n",
       "</td>\n",
       "<td>\n",
       "null\n",
       "</td>\n",
       "<td>\n",
       "&quot;Open ⋅ Closes ...\n",
       "</td>\n",
       "<td>\n",
       "&quot;0x80c2c78249ab...\n",
       "</td>\n",
       "<td>\n",
       "&quot;https://www.go...\n",
       "</td>\n",
       "</tr>\n",
       "<tr>\n",
       "<td>\n",
       "&quot;Nova Fabrics&quot;\n",
       "</td>\n",
       "<td>\n",
       "&quot;Nova Fabrics, ...\n",
       "</td>\n",
       "<td>\n",
       "&quot;0x80c2c89923b2...\n",
       "</td>\n",
       "<td>\n",
       "null\n",
       "</td>\n",
       "<td>\n",
       "34.03125\n",
       "</td>\n",
       "<td>\n",
       "-118.25\n",
       "</td>\n",
       "<td>\n",
       "&quot;Fabric store&quot;\n",
       "</td>\n",
       "<td>\n",
       "3\n",
       "</td>\n",
       "<td>\n",
       "6\n",
       "</td>\n",
       "<td>\n",
       "null\n",
       "</td>\n",
       "<td>\n",
       "null\n",
       "</td>\n",
       "<td>\n",
       "null\n",
       "</td>\n",
       "<td>\n",
       "&quot;Open ⋅ Closes ...\n",
       "</td>\n",
       "<td>\n",
       "&quot;0x80c2c8811477...\n",
       "</td>\n",
       "<td>\n",
       "&quot;https://www.go...\n",
       "</td>\n",
       "</tr>\n",
       "<tr>\n",
       "<td>\n",
       "&quot;Nobel Textile ...\n",
       "</td>\n",
       "<td>\n",
       "&quot;Nobel Textile ...\n",
       "</td>\n",
       "<td>\n",
       "&quot;0x80c2c632f933...\n",
       "</td>\n",
       "<td>\n",
       "null\n",
       "</td>\n",
       "<td>\n",
       "34.03125\n",
       "</td>\n",
       "<td>\n",
       "-118.25\n",
       "</td>\n",
       "<td>\n",
       "&quot;Fabric store&quot;\n",
       "</td>\n",
       "<td>\n",
       "4\n",
       "</td>\n",
       "<td>\n",
       "7\n",
       "</td>\n",
       "<td>\n",
       "null\n",
       "</td>\n",
       "<td>\n",
       "null\n",
       "</td>\n",
       "<td>\n",
       "null\n",
       "</td>\n",
       "<td>\n",
       "&quot;Open ⋅ Closes ...\n",
       "</td>\n",
       "<td>\n",
       "&quot;0x80c2c62c4960...\n",
       "</td>\n",
       "<td>\n",
       "&quot;https://www.go...\n",
       "</td>\n",
       "</tr>\n",
       "</tbody>\n",
       "</table>\n",
       "</div>"
      ],
      "text/plain": [
       "shape: (5, 15)\n",
       "┌───────────────┬───────────────┬──────────────┬─────────────┬─────┬──────┬──────────────┬──────────────┬──────────────┐\n",
       "│ name          ┆ address       ┆ gmap_id      ┆ description ┆ ... ┆ MISC ┆ state        ┆ relative_res ┆ url          │\n",
       "│ ---           ┆ ---           ┆ ---          ┆ ---         ┆     ┆ ---  ┆ ---          ┆ ults         ┆ ---          │\n",
       "│ str           ┆ str           ┆ str          ┆ str         ┆     ┆ f64  ┆ str          ┆ ---          ┆ str          │\n",
       "│               ┆               ┆              ┆             ┆     ┆      ┆              ┆ str          ┆              │\n",
       "╞═══════════════╪═══════════════╪══════════════╪═════════════╪═════╪══════╪══════════════╪══════════════╪══════════════╡\n",
       "│ Porter        ┆ Porter        ┆ 0x88f16e4192 ┆ null        ┆ ... ┆ null ┆ Open ⋅       ┆ 0x88f16e4192 ┆ https://www. │\n",
       "│ Pharmacy      ┆ Pharmacy, 129 ┆ 8ff687:0x883 ┆             ┆     ┆      ┆ Closes 6PM   ┆ 9435cf:0x5b2 ┆ google.com/m │\n",
       "│               ┆ N Second      ┆ dad4fd04...  ┆             ┆     ┆      ┆              ┆ 532a2885...  ┆ aps/plac...  │\n",
       "│               ┆ St...         ┆              ┆             ┆     ┆      ┆              ┆              ┆              │\n",
       "│ City Textile  ┆ City Textile, ┆ 0x80c2c98c0e ┆ null        ┆ ... ┆ null ┆ Open now     ┆ 0x80c2c62413 ┆ https://www. │\n",
       "│               ┆ 3001 E Pico   ┆ 3c16fd:0x29e ┆             ┆     ┆      ┆              ┆ 6ea88b:0xb03 ┆ google.com/m │\n",
       "│               ┆ Blvd, ...     ┆ c8a72876...  ┆             ┆     ┆      ┆              ┆ 15367ed4...  ┆ aps/plac...  │\n",
       "│ San Soo Dang  ┆ San Soo Dang, ┆ 0x80c2c778e3 ┆ null        ┆ ... ┆ null ┆ Open ⋅       ┆ 0x80c2c78249 ┆ https://www. │\n",
       "│               ┆ 761 S Vermont ┆ b73d33:0xbdc ┆             ┆     ┆      ┆ Closes 6PM   ┆ aba68f:0x35b ┆ google.com/m │\n",
       "│               ┆ Ave,...       ┆ 58662a4a...  ┆             ┆     ┆      ┆              ┆ f16ce61b...  ┆ aps/plac...  │\n",
       "│ Nova Fabrics  ┆ Nova Fabrics, ┆ 0x80c2c89923 ┆ null        ┆ ... ┆ null ┆ Open ⋅       ┆ 0x80c2c88114 ┆ https://www. │\n",
       "│               ┆ 2200 E 11th   ┆ b27a41:0x320 ┆             ┆     ┆      ┆ Closes 5PM   ┆ 77253f:0x23a ┆ google.com/m │\n",
       "│               ┆ St, Lo...     ┆ 41559418...  ┆             ┆     ┆      ┆              ┆ 8a492df1...  ┆ aps/plac...  │\n",
       "│ Nobel Textile ┆ Nobel Textile ┆ 0x80c2c632f9 ┆ null        ┆ ... ┆ null ┆ Open ⋅       ┆ 0x80c2c62c49 ┆ https://www. │\n",
       "│ Co            ┆ Co, 719 E 9th ┆ 33b073:0xc31 ┆             ┆     ┆      ┆ Closes 5PM   ┆ 6083d1:0xdef ┆ google.com/m │\n",
       "│               ┆ St, ...       ┆ 785961fe...  ┆             ┆     ┆      ┆              ┆ a11317fe...  ┆ aps/plac...  │\n",
       "└───────────────┴───────────────┴──────────────┴─────────────┴─────┴──────┴──────────────┴──────────────┴──────────────┘"
      ]
     },
     "execution_count": 5,
     "metadata": {},
     "output_type": "execute_result"
    }
   ],
   "source": [
    "pl_df.head()"
   ]
  },
  {
   "cell_type": "code",
   "execution_count": 7,
   "id": "9b5a1e06-265f-44cf-9ba3-80015fc1fc43",
   "metadata": {},
   "outputs": [
    {
     "name": "stderr",
     "output_type": "stream",
     "text": [
      "error uploading: HTTPSConnectionPool(host='api.segment.io', port=443): Max retries exceeded with url: /v1/batch (Caused by NewConnectionError('<urllib3.connection.HTTPSConnection object at 0x00000264D3C0EF50>: Failed to establish a new connection: [Errno 11001] getaddrinfo failed'))\n"
     ]
    }
   ],
   "source": [
    "pl_df.write_parquet('parquet/sitios1.parquet')\n",
    "pl_df.write_csv('csv/sitios1.csv')"
   ]
  },
  {
   "cell_type": "code",
   "execution_count": 6,
   "id": "c6d4012a-4475-4ba9-8de2-8158472842ca",
   "metadata": {},
   "outputs": [],
   "source": [
    "pd_df = pl_df.to_pandas()"
   ]
  },
  {
   "cell_type": "code",
   "execution_count": null,
   "id": "19c26e44-63c1-4e3d-bc8d-7bbc4766aad1",
   "metadata": {},
   "outputs": [],
   "source": []
  }
 ],
 "metadata": {
  "kernelspec": {
   "display_name": "Python 3 (ipykernel)",
   "language": "python",
   "name": "python3"
  },
  "language_info": {
   "codemirror_mode": {
    "name": "ipython",
    "version": 3
   },
   "file_extension": ".py",
   "mimetype": "text/x-python",
   "name": "python",
   "nbconvert_exporter": "python",
   "pygments_lexer": "ipython3",
   "version": "3.10.5"
  }
 },
 "nbformat": 4,
 "nbformat_minor": 5
}
