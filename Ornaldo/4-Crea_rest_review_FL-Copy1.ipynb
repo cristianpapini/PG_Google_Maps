{
 "cells": [
  {
   "cell_type": "code",
   "execution_count": 1,
   "id": "dbfb41b7-87d2-47aa-8687-a1f2bd961237",
   "metadata": {},
   "outputs": [],
   "source": [
    "import polars as pl\n",
    "import pandas as pd"
   ]
  },
  {
   "cell_type": "markdown",
   "id": "430df3e0-3a9d-45ba-8dad-a582a9fc30fd",
   "metadata": {},
   "source": [
    "## Abro sitios y reviews"
   ]
  },
  {
   "cell_type": "code",
   "execution_count": 2,
   "id": "8803452f-f9ab-44ae-9fa0-e37e90941175",
   "metadata": {},
   "outputs": [
    {
     "data": {
      "text/plain": [
       "(2850000, 9)"
      ]
     },
     "execution_count": 2,
     "metadata": {},
     "output_type": "execute_result"
    }
   ],
   "source": [
    "pl_sitios = pl.read_parquet('parquet/sitios_FL.parquet')\n",
    "pl_reviews = pl.read_parquet('parquet/review_florida.parquet')\n",
    "pl_reviews.shape"
   ]
  },
  {
   "cell_type": "markdown",
   "id": "56ca2486-02d2-4f4d-b9ac-d7e8ebe4f41f",
   "metadata": {},
   "source": [
    "## Creo un dataframe a partir de un diccionario que est compuesto por las combinaciones del\n",
    "## nombre del restaurant + relative_results\n",
    "## Se llama pl_name_review"
   ]
  },
  {
   "cell_type": "code",
   "execution_count": 3,
   "id": "a24db098-885d-47c8-b85d-be23ab1b07af",
   "metadata": {},
   "outputs": [
    {
     "data": {
      "text/plain": [
       "(13788, 2)"
      ]
     },
     "execution_count": 3,
     "metadata": {},
     "output_type": "execute_result"
    }
   ],
   "source": [
    "i = 0\n",
    "cantidad = pl_sitios.shape[0]\n",
    "dicc = {'name':[],'gmap_id':[]}\n",
    "for i in range(0,cantidad-1):\n",
    "    if pl_sitios[i,'relative_results']:\n",
    "        lista = pl_sitios[i,'relative_results'].split(',')\n",
    "        for elem in lista:\n",
    "            dicc['name'].append(pl_sitios[i,'name'])\n",
    "            dicc['gmap_id'].append(elem)\n",
    "    i = i + 1\n",
    "pl_review_FL = pl.DataFrame(dicc)    \n",
    "pl_review_FL.shape"
   ]
  },
  {
   "cell_type": "markdown",
   "id": "482d0c80-b9df-42b6-aa2f-de87120a73f2",
   "metadata": {},
   "source": [
    "## Hago un join entre \n",
    "## pl_name_review y pl_reviews"
   ]
  },
  {
   "cell_type": "code",
   "execution_count": 4,
   "id": "d6343f52-d8be-4bf5-b633-002ee880044c",
   "metadata": {},
   "outputs": [],
   "source": [
    "pl_review_FL = pl_review_FL.join(pl_reviews.select(['gmap_id','name','rating','text']), on='gmap_id')"
   ]
  },
  {
   "cell_type": "code",
   "execution_count": 5,
   "id": "29007a70-8f18-4116-94e7-9d191f4c6aca",
   "metadata": {},
   "outputs": [],
   "source": [
    "pl_review_FL = (pl_review_FL.groupby(['name','name_right']).agg([\n",
    "    pl.col('rating').mean(),\n",
    "    pl.col('text').max()\n",
    "])\n",
    " .sort('name')\n",
    ")"
   ]
  },
  {
   "cell_type": "markdown",
   "id": "b0c09a17-80fc-42fc-89f9-47aaa39a29fb",
   "metadata": {},
   "source": [
    "## Elimino duplicados"
   ]
  },
  {
   "cell_type": "markdown",
   "id": "639ca14d-b115-4f27-a0d4-43b0bec7be76",
   "metadata": {},
   "source": [
    "pl_review_FL = pl_review_FL.groupby(['name','gmap_id']).agg([\n",
    "    pl.col('rating').mean(),\n",
    "    pl.col('text')\n",
    "]).sort('name')\n",
    "pl_review_FL = pl_review_FL.with_columns([\n",
    "    pl.col('rating').apply(lambda x: round(x,2))\n",
    "])\n",
    "pl_review_FL.shape"
   ]
  },
  {
   "cell_type": "code",
   "execution_count": 6,
   "id": "0b7201d8-2668-46b2-a965-d7531a158fc0",
   "metadata": {},
   "outputs": [
    {
     "data": {
      "text/plain": [
       "['name', 'name_right', 'rating', 'text']"
      ]
     },
     "execution_count": 6,
     "metadata": {},
     "output_type": "execute_result"
    }
   ],
   "source": [
    "pl_review_FL.columns"
   ]
  },
  {
   "cell_type": "code",
   "execution_count": 7,
   "id": "d5c593d9-8683-4fed-b0a2-0d2330a78208",
   "metadata": {},
   "outputs": [
    {
     "data": {
      "text/plain": [
       "(247328, 4)"
      ]
     },
     "execution_count": 7,
     "metadata": {},
     "output_type": "execute_result"
    }
   ],
   "source": [
    "pl_review_FL.shape"
   ]
  },
  {
   "cell_type": "markdown",
   "id": "b298957f-c8ae-42f1-a01c-e71e0c1041f9",
   "metadata": {},
   "source": [
    "## Salvo como rest_review_FL(parquet y csv)"
   ]
  },
  {
   "cell_type": "code",
   "execution_count": 8,
   "id": "7d4bfe1c-42f8-4d21-bde0-6aa5b1bb4bd8",
   "metadata": {},
   "outputs": [],
   "source": [
    "# No puedo salvar csv por la lista y me dio guerra de momento convertirla en string. Lo dejo para mas adelante\n",
    "pl_review_FL.write_parquet('parquet/review_FL.parquet')\n",
    "pl_review_FL.write_csv('csv/review_FL.csv')\n",
    "pl_review_FL.write_parquet('PG_Google_Maps/Ornaldo/review_FL.parquet')\n",
    "pl_review_FL.write_csv('PG_Google_Maps/Ornaldo/review_FL.csv')"
   ]
  }
 ],
 "metadata": {
  "kernelspec": {
   "display_name": "Python 3 (ipykernel)",
   "language": "python",
   "name": "python3"
  },
  "language_info": {
   "codemirror_mode": {
    "name": "ipython",
    "version": 3
   },
   "file_extension": ".py",
   "mimetype": "text/x-python",
   "name": "python",
   "nbconvert_exporter": "python",
   "pygments_lexer": "ipython3",
   "version": "3.10.5"
  }
 },
 "nbformat": 4,
 "nbformat_minor": 5
}
