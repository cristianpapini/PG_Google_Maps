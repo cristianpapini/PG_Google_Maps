{
 "cells": [
  {
   "cell_type": "code",
   "execution_count": 24,
   "id": "4dc69302-27db-4ee8-87ba-edd3302d424a",
   "metadata": {},
   "outputs": [],
   "source": [
    "import pandas as pd\n",
    "import time\n",
    "import polars as pl"
   ]
  },
  {
   "cell_type": "code",
   "execution_count": 25,
   "id": "775f0e62-96bd-4bcf-bfdd-718a5c3cf4be",
   "metadata": {},
   "outputs": [],
   "source": [
    "# Imported Population Change.csv\n",
    "import pandas as pd\n",
    "Population_Change = pd.read_csv(r'C:\\Users\\ornal\\Desktop\\Proyecto\\Source Data\\Population Change.csv')\n",
    "\n",
    "# Filtered Description\n",
    "Population_Change = Population_Change[Population_Change['Description'] == 'Florida']\n",
    "\n",
    "# Changed Net International Migration to dtype int\n",
    "Population_Change['Net International Migration'] = Population_Change['Net International Migration'].fillna(0).astype('int')\n",
    "\n",
    "# Deleted columns IBRC_Geo_ID\n",
    "Population_Change.drop(['IBRC_Geo_ID'], axis=1, inplace=True)\n",
    "\n",
    "# Deleted columns Statefips\n",
    "Population_Change.drop(['Statefips'], axis=1, inplace=True)\n",
    "\n",
    "# Deleted columns Countyfips\n",
    "Population_Change.drop(['Countyfips'], axis=1, inplace=True)\n",
    "\n",
    "# Deleted columns Description\n",
    "Population_Change.drop(['Description'], axis=1, inplace=True)\n",
    "\n",
    "# Deleted columns Residual\n",
    "Population_Change.drop(['Residual'], axis=1, inplace=True)\n",
    "\n",
    "# Renamed columns Int_Migration\n",
    "Population_Change.rename(columns={'Net International Migration': 'Int_Migration'}, inplace=True)\n",
    "\n",
    "# Renamed columns Local_Migration\n",
    "Population_Change.rename(columns={'Net Domestic Migration': 'Local_Migration'}, inplace=True)\n"
   ]
  },
  {
   "cell_type": "code",
   "execution_count": 26,
   "id": "08320de8-964d-42af-b146-ebc1eeec8040",
   "metadata": {},
   "outputs": [
    {
     "data": {
      "text/html": [
       "<div><div id=bb83f789-5b93-4f76-9e35-65bf753a3088 style=\"display:none; background-color:#9D6CFF; color:white; width:200px; height:30px; padding-left:5px; border-radius:4px; flex-direction:row; justify-content:space-around; align-items:center;\" onmouseover=\"this.style.backgroundColor='#BA9BF8'\" onmouseout=\"this.style.backgroundColor='#9D6CFF'\" onclick=\"window.commands?.execute('create-mitosheet-from-dataframe-output');\">See Full Dataframe in Mito</div> <script> if (window.commands?.hasCommand('create-mitosheet-from-dataframe-output')) document.getElementById('bb83f789-5b93-4f76-9e35-65bf753a3088').style.display = 'flex' </script> <table border=\"1\" class=\"dataframe\">\n",
       "  <thead>\n",
       "    <tr style=\"text-align: right;\">\n",
       "      <th></th>\n",
       "      <th>Year</th>\n",
       "      <th>Births</th>\n",
       "      <th>Deaths</th>\n",
       "      <th>Int_Migration</th>\n",
       "      <th>Local_Migration</th>\n",
       "    </tr>\n",
       "  </thead>\n",
       "  <tbody>\n",
       "    <tr>\n",
       "      <th>10494</th>\n",
       "      <td>1990</td>\n",
       "      <td>47494</td>\n",
       "      <td>32673</td>\n",
       "      <td>10417</td>\n",
       "      <td>55216</td>\n",
       "    </tr>\n",
       "    <tr>\n",
       "      <th>10495</th>\n",
       "      <td>1991</td>\n",
       "      <td>197279</td>\n",
       "      <td>133725</td>\n",
       "      <td>46942</td>\n",
       "      <td>161441</td>\n",
       "    </tr>\n",
       "    <tr>\n",
       "      <th>10496</th>\n",
       "      <td>1992</td>\n",
       "      <td>192708</td>\n",
       "      <td>139084</td>\n",
       "      <td>52015</td>\n",
       "      <td>101294</td>\n",
       "    </tr>\n",
       "    <tr>\n",
       "      <th>10497</th>\n",
       "      <td>1993</td>\n",
       "      <td>191930</td>\n",
       "      <td>143495</td>\n",
       "      <td>54541</td>\n",
       "      <td>104433</td>\n",
       "    </tr>\n",
       "    <tr>\n",
       "      <th>10498</th>\n",
       "      <td>1994</td>\n",
       "      <td>192564</td>\n",
       "      <td>147397</td>\n",
       "      <td>60011</td>\n",
       "      <td>141421</td>\n",
       "    </tr>\n",
       "    <tr>\n",
       "      <th>...</th>\n",
       "      <td>...</td>\n",
       "      <td>...</td>\n",
       "      <td>...</td>\n",
       "      <td>...</td>\n",
       "      <td>...</td>\n",
       "    </tr>\n",
       "    <tr>\n",
       "      <th>10521</th>\n",
       "      <td>2016</td>\n",
       "      <td>226033</td>\n",
       "      <td>193681</td>\n",
       "      <td>157803</td>\n",
       "      <td>217181</td>\n",
       "    </tr>\n",
       "    <tr>\n",
       "      <th>10522</th>\n",
       "      <td>2017</td>\n",
       "      <td>222993</td>\n",
       "      <td>199773</td>\n",
       "      <td>161644</td>\n",
       "      <td>164243</td>\n",
       "    </tr>\n",
       "    <tr>\n",
       "      <th>10523</th>\n",
       "      <td>2018</td>\n",
       "      <td>223734</td>\n",
       "      <td>206543</td>\n",
       "      <td>132690</td>\n",
       "      <td>127568</td>\n",
       "    </tr>\n",
       "    <tr>\n",
       "      <th>10524</th>\n",
       "      <td>2019</td>\n",
       "      <td>220705</td>\n",
       "      <td>211071</td>\n",
       "      <td>88787</td>\n",
       "      <td>139330</td>\n",
       "    </tr>\n",
       "    <tr>\n",
       "      <th>10525</th>\n",
       "      <td>2020</td>\n",
       "      <td>219996</td>\n",
       "      <td>230396</td>\n",
       "      <td>78072</td>\n",
       "      <td>174645</td>\n",
       "    </tr>\n",
       "  </tbody>\n",
       "</table></div>"
      ],
      "text/plain": [
       "       Year   Births   Deaths  Int_Migration  Local_Migration\n",
       "10494  1990    47494    32673          10417            55216\n",
       "10495  1991   197279   133725          46942           161441\n",
       "10496  1992   192708   139084          52015           101294\n",
       "10497  1993   191930   143495          54541           104433\n",
       "10498  1994   192564   147397          60011           141421\n",
       "10499  1995   188845   150687          83104           100581\n",
       "10500  1996   187843   153554          94015           115954\n",
       "10501  1997   192231   152513          85717           128826\n",
       "10502  1998   194970   157354          72884           112837\n",
       "10503  1999   195784   159752          80463            86511\n",
       "10504  1999  1781648  1370234         640109          1108514\n",
       "10505  2000    48118    38625          26734            28761\n",
       "10506  2001   205394   166242         103065           157736\n",
       "10507  2002   205558   167712          96939           185584\n",
       "10508  2003   208889   168122          80691           171133\n",
       "10509  2004   215365   170129          89688           265420\n",
       "10510  2005   221683   170039          91201           265932\n",
       "10511  2006   231473   171127         100206           141448\n",
       "10512  2007   241448   168625          87534            16707\n",
       "10513  2008   235006   170896          87821           -18568\n",
       "10514  2009   233310   175141          87381           -31179\n",
       "10515  2010    50884    41760          22735            10293\n",
       "10516  2011   213199   174492         102343            68566\n",
       "10517  2012   214011   173760         100592           103739\n",
       "10518  2013   212989   181594         105369           111638\n",
       "10519  2014   218358   181037         114339           147435\n",
       "10520  2015   221743   191082         134725           197683\n",
       "10521  2016   226033   193681         157803           217181\n",
       "10522  2017   222993   199773         161644           164243\n",
       "10523  2018   223734   206543         132690           127568\n",
       "10524  2019   220705   211071          88787           139330\n",
       "10525  2020   219996   230396          78072           174645"
      ]
     },
     "execution_count": 26,
     "metadata": {},
     "output_type": "execute_result"
    }
   ],
   "source": [
    "Population_Change"
   ]
  },
  {
   "cell_type": "markdown",
   "id": "07561cb2-b189-4d0c-ad3d-185dcb146fa3",
   "metadata": {},
   "source": [
    "## Agrego una columna con el saldo"
   ]
  },
  {
   "cell_type": "code",
   "execution_count": 29,
   "id": "1fbb2f03-4ccb-4153-985f-1be65335ab80",
   "metadata": {},
   "outputs": [
    {
     "data": {
      "text/plain": [
       "(32, 5)"
      ]
     },
     "execution_count": 29,
     "metadata": {},
     "output_type": "execute_result"
    }
   ],
   "source": [
    "pl_Population_Change = pl.from_pandas(Population_Change)\n",
    "pl_Population_Change.shape"
   ]
  },
  {
   "cell_type": "markdown",
   "id": "120d1e10-f0f6-482c-bc90-2efcebc3aa8d",
   "metadata": {},
   "source": [
    "### La columna Deaths la pongo en negativo"
   ]
  },
  {
   "cell_type": "code",
   "execution_count": 31,
   "id": "e199e73d-ac2c-4da7-b6a5-5e1e4bfcf5c1",
   "metadata": {},
   "outputs": [],
   "source": [
    "pl_Population_Change = pl_Population_Change.with_columns(pl.col('Deaths').apply(lambda x: x * -1))"
   ]
  },
  {
   "cell_type": "markdown",
   "id": "6dab1f4f-867a-4878-a7f3-266f128f5279",
   "metadata": {},
   "source": [
    "### Agrego la columna Saldo con el Saldo final del movimiento migratorio del año"
   ]
  },
  {
   "cell_type": "code",
   "execution_count": 39,
   "id": "ca48556d-9d32-4e6e-be33-b5505361771d",
   "metadata": {},
   "outputs": [],
   "source": [
    "pl_Population_Change = pl_Population_Change.select(\n",
    "    [\n",
    "        pl.col('*'),\n",
    "        pl_Population_Change.select(pl.col(['Births','Deaths','Int_Migration','Local_Migration'])).sum(axis=1).alias('Saldo')\n",
    "    ]\n",
    ")"
   ]
  },
  {
   "cell_type": "markdown",
   "id": "ff9b3cc8-40d3-403f-9682-a0928602ae7a",
   "metadata": {},
   "source": [
    "## Calculo el total del movimiento migratorio de los 20 años"
   ]
  },
  {
   "cell_type": "code",
   "execution_count": 43,
   "id": "69beff08-2eb6-4ff9-8134-d7f4ced10a78",
   "metadata": {},
   "outputs": [],
   "source": [
    "Saldo_Migratorio = pl_Population_Change.select(pl.exclude('Year')).sum()"
   ]
  },
  {
   "cell_type": "markdown",
   "id": "a6f5a259-89c5-41dd-b1b5-211127e881b3",
   "metadata": {},
   "source": [
    "## Salvo\n",
    "### fuente: https://www.statsamerica.org"
   ]
  },
  {
   "cell_type": "code",
   "execution_count": 46,
   "id": "d8006487-49ac-4377-9029-fc372f65a718",
   "metadata": {},
   "outputs": [],
   "source": [
    "pl_Population_Change.write_parquet(r'C:\\Users\\ornal\\Desktop\\Proyecto\\parquet\\sitios\\Otros\\\\Population Change.parquet')\n",
    "pl_Population_Change.write_csv(r'C:\\Users\\ornal\\Desktop\\Proyecto\\csv\\Florida Population Change.csv')\n",
    "# Population_Change Totalizado\n",
    "Saldo_Migratorio.write_parquet(r'C:\\Users\\ornal\\Desktop\\Proyecto\\parquet\\sitios\\Otros\\\\Florida Saldo Migratorio.parquet')\n",
    "Saldo_Migratorio.write_csv(r'C:\\Users\\ornal\\Desktop\\Proyecto\\csv\\Florida Saldo Migratorio.csv')"
   ]
  },
  {
   "cell_type": "code",
   "execution_count": null,
   "id": "dcbbc36b-9f46-404a-8611-0c5b2dc4c75a",
   "metadata": {},
   "outputs": [],
   "source": []
  }
 ],
 "metadata": {
  "kernelspec": {
   "display_name": "Python 3 (ipykernel)",
   "language": "python",
   "name": "python3"
  },
  "language_info": {
   "codemirror_mode": {
    "name": "ipython",
    "version": 3
   },
   "file_extension": ".py",
   "mimetype": "text/x-python",
   "name": "python",
   "nbconvert_exporter": "python",
   "pygments_lexer": "ipython3",
   "version": "3.10.5"
  }
 },
 "nbformat": 4,
 "nbformat_minor": 5
}
