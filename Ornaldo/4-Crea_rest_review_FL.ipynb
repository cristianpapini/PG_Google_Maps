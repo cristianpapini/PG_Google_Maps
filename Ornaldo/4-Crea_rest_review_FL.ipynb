{
 "cells": [
  {
   "cell_type": "code",
   "execution_count": 84,
   "id": "dbfb41b7-87d2-47aa-8687-a1f2bd961237",
   "metadata": {},
   "outputs": [],
   "source": [
    "import polars as pl\n",
    "import pandas as pd"
   ]
  },
  {
   "cell_type": "markdown",
   "id": "430df3e0-3a9d-45ba-8dad-a582a9fc30fd",
   "metadata": {},
   "source": [
    "## Abro sitios y reviews"
   ]
  },
  {
   "cell_type": "code",
   "execution_count": 149,
   "id": "8803452f-f9ab-44ae-9fa0-e37e90941175",
   "metadata": {},
   "outputs": [
    {
     "data": {
      "text/plain": [
       "(2850000, 9)"
      ]
     },
     "execution_count": 149,
     "metadata": {},
     "output_type": "execute_result"
    }
   ],
   "source": [
    "pl_sitios = pl.read_parquet('parquet/sitios_FL.parquet')\n",
    "pl_reviews = pl.read_parquet('parquet/review_florida.parquet')\n",
    "pl_reviews.shape"
   ]
  },
  {
   "cell_type": "markdown",
   "id": "56ca2486-02d2-4f4d-b9ac-d7e8ebe4f41f",
   "metadata": {},
   "source": [
    "## Creo un dataframe a partir de un diccionario que est compuesto por las combinaciones del\n",
    "## nombre del restaurant + relative_results\n",
    "## Se llama pl_name_review"
   ]
  },
  {
   "cell_type": "code",
   "execution_count": 150,
   "id": "a24db098-885d-47c8-b85d-be23ab1b07af",
   "metadata": {},
   "outputs": [
    {
     "data": {
      "text/plain": [
       "(13788, 2)"
      ]
     },
     "execution_count": 150,
     "metadata": {},
     "output_type": "execute_result"
    }
   ],
   "source": [
    "i = 0\n",
    "cantidad = pl_sitios.shape[0]\n",
    "dicc = {'name':[],'gmap_id':[]}\n",
    "for i in range(0,cantidad-1):\n",
    "    if pl_sitios[i,'relative_results']:\n",
    "        lista = pl_sitios[i,'relative_results'].split(',')\n",
    "        for elem in lista:\n",
    "            dicc['name'].append(pl_sitios[i,'name'])\n",
    "            dicc['gmap_id'].append(elem)\n",
    "    i = i + 1\n",
    "pl_review_FL = pl.DataFrame(dicc)    \n",
    "pl_review_FL.shape"
   ]
  },
  {
   "cell_type": "markdown",
   "id": "482d0c80-b9df-42b6-aa2f-de87120a73f2",
   "metadata": {},
   "source": [
    "## Hago un join entre \n",
    "## pl_name_review y pl_reviews"
   ]
  },
  {
   "cell_type": "code",
   "execution_count": 151,
   "id": "d6343f52-d8be-4bf5-b633-002ee880044c",
   "metadata": {},
   "outputs": [
    {
     "data": {
      "text/plain": [
       "(285444, 5)"
      ]
     },
     "execution_count": 151,
     "metadata": {},
     "output_type": "execute_result"
    }
   ],
   "source": [
    "pl_review_FL = pl_review_FL.join(pl_reviews.select(['gmap_id','name','rating','text']), on='gmap_id')\n",
    "pl_review_FL.shape"
   ]
  },
  {
   "cell_type": "markdown",
   "id": "b0c09a17-80fc-42fc-89f9-47aaa39a29fb",
   "metadata": {},
   "source": [
    "## Elimino duplicados"
   ]
  },
  {
   "cell_type": "code",
   "execution_count": 152,
   "id": "5bba949a-96c7-4432-91d1-53e93676cceb",
   "metadata": {},
   "outputs": [
    {
     "data": {
      "text/plain": [
       "(930, 4)"
      ]
     },
     "execution_count": 152,
     "metadata": {},
     "output_type": "execute_result"
    }
   ],
   "source": [
    "pl_review_FL = pl_review_FL.groupby(['name','gmap_id']).agg([\n",
    "    pl.col('rating').mean(),\n",
    "    pl.col('text')\n",
    "]).sort('name')\n",
    "pl_review_FL = pl_review_FL.with_columns([\n",
    "    pl.col('rating').apply(lambda x: round(x,2))\n",
    "])\n",
    "pl_review_FL.shape"
   ]
  },
  {
   "cell_type": "code",
   "execution_count": 153,
   "id": "0b7201d8-2668-46b2-a965-d7531a158fc0",
   "metadata": {},
   "outputs": [
    {
     "data": {
      "text/plain": [
       "['name', 'gmap_id', 'rating', 'text']"
      ]
     },
     "execution_count": 153,
     "metadata": {},
     "output_type": "execute_result"
    }
   ],
   "source": [
    "pl_review_FL.columns"
   ]
  },
  {
   "cell_type": "markdown",
   "id": "bf47868d-fdb0-42cd-bcc8-b5e316a3c96e",
   "metadata": {},
   "source": [
    "## Elimino gmap_id, ya no lo necesito"
   ]
  },
  {
   "cell_type": "code",
   "execution_count": 154,
   "id": "4abf5e15-6923-485f-995d-cc799c53c1ad",
   "metadata": {},
   "outputs": [],
   "source": [
    "pl_review_FL = pl_review_FL.select(pl.exclude('gmap_id'))"
   ]
  },
  {
   "cell_type": "code",
   "execution_count": 155,
   "id": "911225f4-e5a2-4371-8bd7-08e1aef2d8fb",
   "metadata": {},
   "outputs": [
    {
     "data": {
      "text/html": [
       "<div>\n",
       "<style scoped>\n",
       "    .dataframe tbody tr th:only-of-type {\n",
       "        vertical-align: middle;\n",
       "    }\n",
       "\n",
       "    .dataframe tbody tr th {\n",
       "        vertical-align: top;\n",
       "    }\n",
       "\n",
       "    .dataframe thead th {\n",
       "        text-align: right;\n",
       "    }\n",
       "\n",
       "    .dataframe td {\n",
       "        white-space: pre;\n",
       "    }\n",
       "\n",
       "    .dataframe td {\n",
       "        padding-top: 0;\n",
       "    }\n",
       "\n",
       "    .dataframe td {\n",
       "        padding-bottom: 0;\n",
       "    }\n",
       "\n",
       "    .dataframe td {\n",
       "        line-height: 95%;\n",
       "    }\n",
       "</style>\n",
       "<table border=\"1\" class=\"dataframe\">\n",
       "<small>shape: (5, 3)</small>\n",
       "<thead>\n",
       "<tr>\n",
       "<th>\n",
       "name\n",
       "</th>\n",
       "<th>\n",
       "rating\n",
       "</th>\n",
       "<th>\n",
       "text\n",
       "</th>\n",
       "</tr>\n",
       "<tr>\n",
       "<td>\n",
       "str\n",
       "</td>\n",
       "<td>\n",
       "f64\n",
       "</td>\n",
       "<td>\n",
       "list[str]\n",
       "</td>\n",
       "</tr>\n",
       "</thead>\n",
       "<tbody>\n",
       "<tr>\n",
       "<td>\n",
       "&quot;33 Below Icecr...\n",
       "</td>\n",
       "<td>\n",
       "4.0\n",
       "</td>\n",
       "<td>\n",
       "[&quot;Nice place, good ice cream. They could do better with the amount of serving. They serve more ice cream in Argentina.&quot;, &quot;Nice place, good ice cream. They could do better with the amount of serving. They serve more ice cream in Argentina.&quot;, ... null]\n",
       "</td>\n",
       "</tr>\n",
       "<tr>\n",
       "<td>\n",
       "&quot;33 Below Icecr...\n",
       "</td>\n",
       "<td>\n",
       "3.69\n",
       "</td>\n",
       "<td>\n",
       "[&quot;Not open during posted hours&quot;, &quot;Not open during posted hours&quot;, ... null]\n",
       "</td>\n",
       "</tr>\n",
       "<tr>\n",
       "<td>\n",
       "&quot;3Natives&quot;\n",
       "</td>\n",
       "<td>\n",
       "4.53\n",
       "</td>\n",
       "<td>\n",
       "[&quot;Stopped in for lunch. Ordered what my friend ordered...the Curry Chicken Wrap. Clean open space. Well lit. Fast and friendly service. A health fanatic’s haven I would guess. Never had canned water! The wrap was really good as well as the dressing that comes with it. I’ll be back to try a bowl and smoothie. 😋&quot;, &quot;I always feel great after I stop in for an acai bowl. Fresh, healthy ingredients are perfect for a light lunch or heavy snack. Very easy to order online for a quick pick-up. On the other hand, they have enough space that eating in works well.&quot;, ... null]\n",
       "</td>\n",
       "</tr>\n",
       "<tr>\n",
       "<td>\n",
       "&quot;3Natives&quot;\n",
       "</td>\n",
       "<td>\n",
       "4.2\n",
       "</td>\n",
       "<td>\n",
       "[&quot;I asked questions about yogurt based smoothies. There were 2 attendants. The younger one was fine but cut off from helping me by the older, more abrupt one whose eyes literally bulged out in impatience and incredulity when asked simple questions about the smoothies. No desire or ability to explain or take time with a new customer. Will definitely not be returning here. Time: 12:45 pm on 06/04/21.&quot;, &quot;A tastey option for smoothies that is also healthy!  You can also add additional fresh fruits to the base to satisfy your taste buds.  Wondrous treats that wont break the bank or the belt. You get my thumbs up.&quot;, ... null]\n",
       "</td>\n",
       "</tr>\n",
       "<tr>\n",
       "<td>\n",
       "&quot;3Natives&quot;\n",
       "</td>\n",
       "<td>\n",
       "4.32\n",
       "</td>\n",
       "<td>\n",
       "[&quot;They have such yummy acai bowls and light food options! I definitely recommend!&quot;, &quot;Always delicious . Açaí bowls are always fresh and good.&quot;, ... null]\n",
       "</td>\n",
       "</tr>\n",
       "</tbody>\n",
       "</table>\n",
       "</div>"
      ],
      "text/plain": [
       "shape: (5, 3)\n",
       "┌───────────────────┬────────┬─────────────────────────────────────┐\n",
       "│ name              ┆ rating ┆ text                                │\n",
       "│ ---               ┆ ---    ┆ ---                                 │\n",
       "│ str               ┆ f64    ┆ list[str]                           │\n",
       "╞═══════════════════╪════════╪═════════════════════════════════════╡\n",
       "│ 33 Below Icecream ┆ 4.0    ┆ [\"Nice place, good ice cream. Th... │\n",
       "│ 33 Below Icecream ┆ 3.69   ┆ [\"Not open during posted hours\",... │\n",
       "│ 3Natives          ┆ 4.53   ┆ [\"Stopped in for lunch. Ordered ... │\n",
       "│ 3Natives          ┆ 4.2    ┆ [\"I asked questions about yogurt... │\n",
       "│ 3Natives          ┆ 4.32   ┆ [\"They have such yummy acai bowl... │\n",
       "└───────────────────┴────────┴─────────────────────────────────────┘"
      ]
     },
     "execution_count": 155,
     "metadata": {},
     "output_type": "execute_result"
    }
   ],
   "source": [
    "pl_review_FL.head()"
   ]
  },
  {
   "cell_type": "markdown",
   "id": "b298957f-c8ae-42f1-a01c-e71e0c1041f9",
   "metadata": {},
   "source": [
    "## Salvo como rest_review_FL(parquet y csv)"
   ]
  },
  {
   "cell_type": "code",
   "execution_count": 156,
   "id": "7d4bfe1c-42f8-4d21-bde0-6aa5b1bb4bd8",
   "metadata": {},
   "outputs": [],
   "source": [
    "pl_review_FL.write_parquet('parquet/review_FL.parquet')\n",
    "#pl_review_FL.write_csv('csv/review_FL.csv')\n",
    "pl_review_FL.write_parquet('PG_Google_Maps/Ornaldo/review_FL.parquet')"
   ]
  },
  {
   "cell_type": "code",
   "execution_count": null,
   "id": "5256306d-4b4a-4a23-9a8c-5e0b9b414ed8",
   "metadata": {},
   "outputs": [],
   "source": []
  }
 ],
 "metadata": {
  "kernelspec": {
   "display_name": "Python 3 (ipykernel)",
   "language": "python",
   "name": "python3"
  },
  "language_info": {
   "codemirror_mode": {
    "name": "ipython",
    "version": 3
   },
   "file_extension": ".py",
   "mimetype": "text/x-python",
   "name": "python",
   "nbconvert_exporter": "python",
   "pygments_lexer": "ipython3",
   "version": "3.10.5"
  }
 },
 "nbformat": 4,
 "nbformat_minor": 5
}
