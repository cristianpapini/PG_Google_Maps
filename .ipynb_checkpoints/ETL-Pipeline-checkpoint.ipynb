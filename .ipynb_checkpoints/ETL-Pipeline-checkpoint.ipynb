{
 "cells": [
  {
   "cell_type": "code",
   "execution_count": 13,
   "metadata": {},
   "outputs": [],
   "source": [
    "import pandas as pd"
   ]
  },
  {
   "cell_type": "code",
   "execution_count": 14,
   "metadata": {},
   "outputs": [],
   "source": [
    "# funcion de mapeo para segementacion por rubro\n",
    "def map_category(categories):\n",
    "    for cat in categories:\n",
    "        if any(keyword in cat.lower() for keyword in ['bakery', 'restaurant', 'dessert','pastry','deliver','Pizza','grill']):\n",
    "            return 0 # 0 indica que pertence al rubro de estudio y debera conservarse\n",
    "    return 1"
   ]
  },
  {
   "cell_type": "code",
   "execution_count": 15,
   "metadata": {},
   "outputs": [],
   "source": [
    "def pipeline_ETL(df):\n",
    "    # 1.Eliminando filas duplicadas\n",
    "    df = df.drop_duplicates(subset=['name','address','gmap_id','description','latitude','longitude','avg_rating','num_of_reviews','price','state','url'])\n",
    "    # 2.Eliminando los permanentemente cerrados\n",
    "    df = df[df['state']!='Permanently closed']\n",
    "    # 3.eliminando los nulos en 'name'\n",
    "    df.dropna(subset=['name'],inplace=True)\n",
    "    # 4.Los que tienen null en categoy y tienen la cadena restaurant/bakery/dessert/pastry en name se les imputa restaurante\n",
    "    df.loc[(df['name'].str.contains('restaurant')|df['name'].str.contains('pizza')|df['name'].str.contains('grill')) & (df['category'].isnull()), 'category'] = ['restaurant']\n",
    "    df.loc[(df['name'].str.contains('bakery')) & (df['category'].isnull()), 'category'] = ['bakery']\n",
    "    df.loc[(df['name'].str.contains('dessert')) & (df['category'].isnull()), 'category'] = ['desserts']\n",
    "    df.loc[(df['name'].str.contains('pastry')) & (df['category'].isnull()), 'category'] = ['pastry']\n",
    "    # 5.Eliminiando los nulos de la columna category\n",
    "    df=df.dropna(subset=['category'])\n",
    "    # 6.Marcando con 0 a aquella filas que pertenecen al rubro de estudio\n",
    "    df['flag'] = df['category'].apply(map_category)\n",
    "    # 7.eliminando a los que no pertenecen al rubro de estudio\n",
    "    df = df[df['flag']==0]\n",
    "    # 8.Eliminacion de columnas: price\n",
    "    df.drop(columns='price',inplace=True)\n",
    "    return df"
   ]
  },
  {
   "cell_type": "code",
   "execution_count": 16,
   "metadata": {},
   "outputs": [],
   "source": [
    "# Proceso de carga secuencial y exportacion a parquet\n",
    "dfs = []\n",
    "for i in range(1,12):\n",
    "    filename = f'Datasets/{i}.json'\n",
    "    df = pd.read_json(filename,lines=True)\n",
    "    df = pipeline_ETL(df=df)\n",
    "    dfs.append(df)\n",
    "result= pd.concat(dfs)\n",
    "result.to_parquet('Datasets/metadata-sitios.parquet')"
   ]
  }
 ],
 "metadata": {
  "kernelspec": {
   "display_name": "Python 3",
   "language": "python",
   "name": "python3"
  },
  "language_info": {
   "codemirror_mode": {
    "name": "ipython",
    "version": 3
   },
   "file_extension": ".py",
   "mimetype": "text/x-python",
   "name": "python",
   "nbconvert_exporter": "python",
   "pygments_lexer": "ipython3",
   "version": "3.10.5"
  },
  "orig_nbformat": 4,
  "vscode": {
   "interpreter": {
    "hash": "110fe3fb9777db4ce1f884af3cc527a40b2c98427ad17781c021ef692bd3d28d"
   }
  }
 },
 "nbformat": 4,
 "nbformat_minor": 2
}
