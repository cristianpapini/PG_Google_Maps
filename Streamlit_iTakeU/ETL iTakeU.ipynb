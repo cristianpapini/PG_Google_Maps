{
 "cells": [
  {
   "attachments": {},
   "cell_type": "markdown",
   "metadata": {},
   "source": [
    "## ETL para la WebApp en Streamlit"
   ]
  },
  {
   "cell_type": "code",
   "execution_count": 3,
   "metadata": {},
   "outputs": [],
   "source": [
    "# Se importan las librerías a utilizar\n",
    "\n",
    "import pandas as pd\n",
    "import numpy as np"
   ]
  },
  {
   "cell_type": "code",
   "execution_count": 41,
   "metadata": {},
   "outputs": [],
   "source": [
    "# Se ingesta la base de datos\n",
    "\n",
    "df_lugares = pd.read_csv('sitios_Fl_COOR.csv')"
   ]
  },
  {
   "cell_type": "code",
   "execution_count": 42,
   "metadata": {},
   "outputs": [
    {
     "data": {
      "text/html": [
       "<div>\n",
       "<style scoped>\n",
       "    .dataframe tbody tr th:only-of-type {\n",
       "        vertical-align: middle;\n",
       "    }\n",
       "\n",
       "    .dataframe tbody tr th {\n",
       "        vertical-align: top;\n",
       "    }\n",
       "\n",
       "    .dataframe thead th {\n",
       "        text-align: right;\n",
       "    }\n",
       "</style>\n",
       "<table border=\"1\" class=\"dataframe\">\n",
       "  <thead>\n",
       "    <tr style=\"text-align: right;\">\n",
       "      <th></th>\n",
       "      <th>name</th>\n",
       "      <th>address</th>\n",
       "      <th>gmap_id</th>\n",
       "      <th>description</th>\n",
       "      <th>latitude</th>\n",
       "      <th>longitude</th>\n",
       "      <th>category</th>\n",
       "      <th>avg_rating</th>\n",
       "      <th>num_of_reviews</th>\n",
       "      <th>price</th>\n",
       "      <th>...</th>\n",
       "      <th>closed</th>\n",
       "      <th>street</th>\n",
       "      <th>zip</th>\n",
       "      <th>horario</th>\n",
       "      <th>open</th>\n",
       "      <th>close</th>\n",
       "      <th>City</th>\n",
       "      <th>County Name</th>\n",
       "      <th>latitude1</th>\n",
       "      <th>longitude1</th>\n",
       "    </tr>\n",
       "  </thead>\n",
       "  <tbody>\n",
       "    <tr>\n",
       "      <th>0</th>\n",
       "      <td>Cape Seafood Shack</td>\n",
       "      <td>Cape Seafood Shack, 603 Del Prado Blvd S, Cape...</td>\n",
       "      <td>0x88db4147b1d9e6f3:0x943dbd10a92ba1b1</td>\n",
       "      <td>NaN</td>\n",
       "      <td>26.640625</td>\n",
       "      <td>-81.9375</td>\n",
       "      <td>Restaurant</td>\n",
       "      <td>5</td>\n",
       "      <td>1</td>\n",
       "      <td>$$</td>\n",
       "      <td>...</td>\n",
       "      <td>1</td>\n",
       "      <td>603 Del Prado Blvd S FL USA</td>\n",
       "      <td>33990</td>\n",
       "      <td>NaN</td>\n",
       "      <td>NaN</td>\n",
       "      <td>NaN</td>\n",
       "      <td>CAPE CORAL</td>\n",
       "      <td>LEE</td>\n",
       "      <td>26.640758</td>\n",
       "      <td>-81.940728</td>\n",
       "    </tr>\n",
       "    <tr>\n",
       "      <th>1</th>\n",
       "      <td>Fresh Point Country Buffet</td>\n",
       "      <td>Fresh Point Country Buffet, 10525 US-19, Pinel...</td>\n",
       "      <td>0x88c2e4e34f1ed783:0x76c5da381c499d79</td>\n",
       "      <td>NaN</td>\n",
       "      <td>27.875000</td>\n",
       "      <td>-82.6875</td>\n",
       "      <td>Buffet restaurant</td>\n",
       "      <td>5</td>\n",
       "      <td>2</td>\n",
       "      <td>NaN</td>\n",
       "      <td>...</td>\n",
       "      <td>1</td>\n",
       "      <td>10525 US-19 FL USA</td>\n",
       "      <td>33782</td>\n",
       "      <td>Permanently closed</td>\n",
       "      <td>Permanently closed</td>\n",
       "      <td>Permanently closed</td>\n",
       "      <td>PINELLAS PARK</td>\n",
       "      <td>PINELLAS</td>\n",
       "      <td>27.867496</td>\n",
       "      <td>-82.703016</td>\n",
       "    </tr>\n",
       "    <tr>\n",
       "      <th>2</th>\n",
       "      <td>Oneyda's Bakery</td>\n",
       "      <td>Oneyda's Bakery, 600 Goodlette-Frank Rd #101, ...</td>\n",
       "      <td>0x88dae191ee505917:0x6ba3e25388d3fad4</td>\n",
       "      <td>NaN</td>\n",
       "      <td>26.156250</td>\n",
       "      <td>-81.8125</td>\n",
       "      <td>Bakery,Deli</td>\n",
       "      <td>4</td>\n",
       "      <td>19</td>\n",
       "      <td>$</td>\n",
       "      <td>...</td>\n",
       "      <td>1</td>\n",
       "      <td>600 Goodlette-Frank Rd #101 FL USA</td>\n",
       "      <td>34102</td>\n",
       "      <td>Permanently closed</td>\n",
       "      <td>Permanently closed</td>\n",
       "      <td>Permanently closed</td>\n",
       "      <td>NAPLES</td>\n",
       "      <td>COLLIER</td>\n",
       "      <td>26.270501</td>\n",
       "      <td>-81.789587</td>\n",
       "    </tr>\n",
       "    <tr>\n",
       "      <th>3</th>\n",
       "      <td>Annie's Bake Shoppe</td>\n",
       "      <td>Annie's Bake Shoppe, 10331 SW 54th St, Miami, ...</td>\n",
       "      <td>0x88d9c754413f6c9d:0x1f93eff5e0ba9c16</td>\n",
       "      <td>NaN</td>\n",
       "      <td>25.718750</td>\n",
       "      <td>-80.3750</td>\n",
       "      <td>Bakery,Gift basket store</td>\n",
       "      <td>4</td>\n",
       "      <td>3</td>\n",
       "      <td>NaN</td>\n",
       "      <td>...</td>\n",
       "      <td>0</td>\n",
       "      <td>10331 SW 54th St FL USA</td>\n",
       "      <td>33165</td>\n",
       "      <td>Open ⋅ Closes 4PM</td>\n",
       "      <td>NaN</td>\n",
       "      <td>4PM</td>\n",
       "      <td>MIAMI</td>\n",
       "      <td>MIAMI-DADE</td>\n",
       "      <td>25.717426</td>\n",
       "      <td>-80.361958</td>\n",
       "    </tr>\n",
       "    <tr>\n",
       "      <th>4</th>\n",
       "      <td>Hot Box</td>\n",
       "      <td>Hot Box, 1-99 Kinkaid St, Pensacola, FL 32507</td>\n",
       "      <td>0x8890b9241e704667:0x3a1e565c17c00993</td>\n",
       "      <td>NaN</td>\n",
       "      <td>30.390625</td>\n",
       "      <td>-87.2500</td>\n",
       "      <td>Restaurant</td>\n",
       "      <td>4</td>\n",
       "      <td>5</td>\n",
       "      <td>NaN</td>\n",
       "      <td>...</td>\n",
       "      <td>1</td>\n",
       "      <td>1-99 Kinkaid St FL USA</td>\n",
       "      <td>32507</td>\n",
       "      <td>Permanently closed</td>\n",
       "      <td>Permanently closed</td>\n",
       "      <td>Permanently closed</td>\n",
       "      <td>PENSACOLA</td>\n",
       "      <td>ESCAMBIA</td>\n",
       "      <td>0.000000</td>\n",
       "      <td>0.000000</td>\n",
       "    </tr>\n",
       "  </tbody>\n",
       "</table>\n",
       "<p>5 rows × 28 columns</p>\n",
       "</div>"
      ],
      "text/plain": [
       "                         name  \\\n",
       "0          Cape Seafood Shack   \n",
       "1  Fresh Point Country Buffet   \n",
       "2             Oneyda's Bakery   \n",
       "3         Annie's Bake Shoppe   \n",
       "4                     Hot Box   \n",
       "\n",
       "                                             address  \\\n",
       "0  Cape Seafood Shack, 603 Del Prado Blvd S, Cape...   \n",
       "1  Fresh Point Country Buffet, 10525 US-19, Pinel...   \n",
       "2  Oneyda's Bakery, 600 Goodlette-Frank Rd #101, ...   \n",
       "3  Annie's Bake Shoppe, 10331 SW 54th St, Miami, ...   \n",
       "4      Hot Box, 1-99 Kinkaid St, Pensacola, FL 32507   \n",
       "\n",
       "                                 gmap_id description   latitude  longitude  \\\n",
       "0  0x88db4147b1d9e6f3:0x943dbd10a92ba1b1         NaN  26.640625   -81.9375   \n",
       "1  0x88c2e4e34f1ed783:0x76c5da381c499d79         NaN  27.875000   -82.6875   \n",
       "2  0x88dae191ee505917:0x6ba3e25388d3fad4         NaN  26.156250   -81.8125   \n",
       "3  0x88d9c754413f6c9d:0x1f93eff5e0ba9c16         NaN  25.718750   -80.3750   \n",
       "4  0x8890b9241e704667:0x3a1e565c17c00993         NaN  30.390625   -87.2500   \n",
       "\n",
       "                   category  avg_rating  num_of_reviews price  ...  closed  \\\n",
       "0                Restaurant           5               1    $$  ...       1   \n",
       "1         Buffet restaurant           5               2   NaN  ...       1   \n",
       "2               Bakery,Deli           4              19     $  ...       1   \n",
       "3  Bakery,Gift basket store           4               3   NaN  ...       0   \n",
       "4                Restaurant           4               5   NaN  ...       1   \n",
       "\n",
       "                               street    zip             horario  \\\n",
       "0         603 Del Prado Blvd S FL USA  33990                 NaN   \n",
       "1                  10525 US-19 FL USA  33782  Permanently closed   \n",
       "2  600 Goodlette-Frank Rd #101 FL USA  34102  Permanently closed   \n",
       "3             10331 SW 54th St FL USA  33165   Open ⋅ Closes 4PM   \n",
       "4              1-99 Kinkaid St FL USA  32507  Permanently closed   \n",
       "\n",
       "                 open               close           City  County Name  \\\n",
       "0                 NaN                 NaN     CAPE CORAL          LEE   \n",
       "1  Permanently closed  Permanently closed  PINELLAS PARK     PINELLAS   \n",
       "2  Permanently closed  Permanently closed         NAPLES      COLLIER   \n",
       "3                 NaN                 4PM          MIAMI   MIAMI-DADE   \n",
       "4  Permanently closed  Permanently closed      PENSACOLA     ESCAMBIA   \n",
       "\n",
       "   latitude1 longitude1  \n",
       "0  26.640758 -81.940728  \n",
       "1  27.867496 -82.703016  \n",
       "2  26.270501 -81.789587  \n",
       "3  25.717426 -80.361958  \n",
       "4   0.000000   0.000000  \n",
       "\n",
       "[5 rows x 28 columns]"
      ]
     },
     "execution_count": 42,
     "metadata": {},
     "output_type": "execute_result"
    }
   ],
   "source": [
    "# Se da una primera mirada a los registros\n",
    "\n",
    "df_lugares.head()"
   ]
  },
  {
   "cell_type": "code",
   "execution_count": 43,
   "metadata": {},
   "outputs": [
    {
     "name": "stdout",
     "output_type": "stream",
     "text": [
      "<class 'pandas.core.frame.DataFrame'>\n",
      "RangeIndex: 4127 entries, 0 to 4126\n",
      "Data columns (total 28 columns):\n",
      " #   Column            Non-Null Count  Dtype  \n",
      "---  ------            --------------  -----  \n",
      " 0   name              4127 non-null   object \n",
      " 1   address           4127 non-null   object \n",
      " 2   gmap_id           4127 non-null   object \n",
      " 3   description       2393 non-null   object \n",
      " 4   latitude          4127 non-null   float64\n",
      " 5   longitude         4127 non-null   float64\n",
      " 6   category          4127 non-null   object \n",
      " 7   avg_rating        4127 non-null   int64  \n",
      " 8   num_of_reviews    4127 non-null   int64  \n",
      " 9   price             2693 non-null   object \n",
      " 10  hours             4127 non-null   float64\n",
      " 11  MISC              4127 non-null   float64\n",
      " 12  relative_results  3299 non-null   object \n",
      " 13  url               4127 non-null   object \n",
      " 14  restaurant        4127 non-null   int64  \n",
      " 15  bakery            4127 non-null   int64  \n",
      " 16  dessert           4127 non-null   int64  \n",
      " 17  pastry            4127 non-null   int64  \n",
      " 18  closed            4127 non-null   int64  \n",
      " 19  street            4127 non-null   object \n",
      " 20  zip               4127 non-null   int64  \n",
      " 21  horario           3581 non-null   object \n",
      " 22  open              2561 non-null   object \n",
      " 23  close             2236 non-null   object \n",
      " 24  City              4127 non-null   object \n",
      " 25  County Name       4127 non-null   object \n",
      " 26  latitude1         4127 non-null   float64\n",
      " 27  longitude1        4127 non-null   float64\n",
      "dtypes: float64(6), int64(8), object(14)\n",
      "memory usage: 902.9+ KB\n"
     ]
    }
   ],
   "source": [
    "# Se detallan más a fondo los tipos  de datos y valores nulos\n",
    "\n",
    "df_lugares.info()"
   ]
  },
  {
   "cell_type": "code",
   "execution_count": 44,
   "metadata": {},
   "outputs": [
    {
     "name": "stderr",
     "output_type": "stream",
     "text": [
      "C:\\Users\\janic\\AppData\\Local\\Temp\\ipykernel_11584\\2528968646.py:6: SettingWithCopyWarning: \n",
      "A value is trying to be set on a copy of a slice from a DataFrame\n",
      "\n",
      "See the caveats in the documentation: https://pandas.pydata.org/pandas-docs/stable/user_guide/indexing.html#returning-a-view-versus-a-copy\n",
      "  df_lugares['latitude1'][i] = df_lugares['latitude'][i]\n",
      "C:\\Users\\janic\\AppData\\Local\\Temp\\ipykernel_11584\\2528968646.py:10: SettingWithCopyWarning: \n",
      "A value is trying to be set on a copy of a slice from a DataFrame\n",
      "\n",
      "See the caveats in the documentation: https://pandas.pydata.org/pandas-docs/stable/user_guide/indexing.html#returning-a-view-versus-a-copy\n",
      "  df_lugares['longitude1'][i] = df_lugares['longitude'][i]\n"
     ]
    }
   ],
   "source": [
    "# En los registros de las columnas latitude1 y longitude1 (que se generaron a partir de las direcciones),\n",
    "# donde hay cero ('0), rellenar con la columna que contiene el dato de forma más reducida\n",
    "\n",
    "for i in range (0, df_lugares.shape[0]):\n",
    "    if df_lugares['latitude1'][i] == 0:\n",
    "        df_lugares['latitude1'][i] = df_lugares['latitude'][i]\n",
    "\n",
    "for i in range (0, df_lugares.shape[0]):\n",
    "    if df_lugares['longitude1'][i] == 0:\n",
    "        df_lugares['longitude1'][i] = df_lugares['longitude'][i]\n",
    "\n",
    "# Se borran las columnas iniciales\n",
    "\n",
    "df_lugares.drop(columns=['latitude', 'longitude'], inplace=True)"
   ]
  },
  {
   "cell_type": "code",
   "execution_count": 45,
   "metadata": {},
   "outputs": [],
   "source": [
    "# Se borran los registros duplicados\n",
    "\n",
    "df_lugares.drop_duplicates(inplace=True)"
   ]
  },
  {
   "cell_type": "code",
   "execution_count": 46,
   "metadata": {},
   "outputs": [],
   "source": [
    "# Se renombran algunas columnas para la presentación en la WebApp\n",
    "\n",
    "df_lugares.rename (columns={'name':'Nombre', 'num_of_reviews':'Reviews', 'zip':'Zip', 'avg_rating':'Rating', 'latitude1':'latitude', 'longitude1':'longitude', 'closed':'Condición_Establecimiento'}, inplace=True)"
   ]
  },
  {
   "cell_type": "code",
   "execution_count": 47,
   "metadata": {},
   "outputs": [],
   "source": [
    "# Se rellenan los valores nulos con 'Sin Dato'\n",
    "\n",
    "df_lugares['description'].replace(np.nan, 'Sin Dato', inplace=True)\n",
    "df_lugares['horario'].replace(np.nan, 'Sin Dato', inplace=True)\n",
    "df_lugares['price'].replace(np.nan, 'Sin Dato', inplace=True)\n",
    "df_lugares['open'].replace(np.nan, 'Sin Dato', inplace=True)\n",
    "df_lugares['close'].replace(np.nan, 'Sin Dato', inplace=True)"
   ]
  },
  {
   "cell_type": "code",
   "execution_count": 48,
   "metadata": {},
   "outputs": [],
   "source": [
    "# En la columna 'Condición_Establecimiento', se cambian los valores: 1 = Permanentemente Cerrado, 2 = Abierto\n",
    "\n",
    "df_lugares['Condición_Establecimiento'].replace(1, 'Inactivo', inplace=True)\n",
    "df_lugares['Condición_Establecimiento'].replace(0, 'Activo', inplace=True)"
   ]
  },
  {
   "cell_type": "code",
   "execution_count": 49,
   "metadata": {},
   "outputs": [],
   "source": [
    "# Se exporta como un nuevo archivo .csv para ser utilizado en el Scrip de la WebApp 'iTakeYou'\n",
    "\n",
    "df_lugares.to_csv('sitios_FL_New.csv')"
   ]
  },
  {
   "cell_type": "code",
   "execution_count": 34,
   "metadata": {},
   "outputs": [],
   "source": [
    "#avg_breast_cancer_df = breast_cancer_df.groupby(\"target\").mean()\n",
    "\n"
   ]
  },
  {
   "cell_type": "code",
   "execution_count": 35,
   "metadata": {},
   "outputs": [
    {
     "data": {
      "text/plain": [
       "Condición_Establecimiento\n",
       "Abierto                    2595\n",
       "Permanentemente Cerrado    1466\n",
       "Name: City, dtype: int64"
      ]
     },
     "execution_count": 35,
     "metadata": {},
     "output_type": "execute_result"
    }
   ],
   "source": [
    "df_condicion_sitios"
   ]
  },
  {
   "attachments": {},
   "cell_type": "markdown",
   "metadata": {},
   "source": [
    "# Pruebas"
   ]
  },
  {
   "cell_type": "code",
   "execution_count": 2,
   "metadata": {},
   "outputs": [],
   "source": [
    "import pandas as pd"
   ]
  },
  {
   "attachments": {},
   "cell_type": "markdown",
   "metadata": {},
   "source": [
    "### City Population"
   ]
  },
  {
   "cell_type": "code",
   "execution_count": 50,
   "metadata": {},
   "outputs": [],
   "source": [
    "df_poblacion = pd.read_csv ('city_population.csv')"
   ]
  },
  {
   "cell_type": "code",
   "execution_count": 51,
   "metadata": {},
   "outputs": [
    {
     "data": {
      "text/html": [
       "<div>\n",
       "<style scoped>\n",
       "    .dataframe tbody tr th:only-of-type {\n",
       "        vertical-align: middle;\n",
       "    }\n",
       "\n",
       "    .dataframe tbody tr th {\n",
       "        vertical-align: top;\n",
       "    }\n",
       "\n",
       "    .dataframe thead th {\n",
       "        text-align: right;\n",
       "    }\n",
       "</style>\n",
       "<table border=\"1\" class=\"dataframe\">\n",
       "  <thead>\n",
       "    <tr style=\"text-align: right;\">\n",
       "      <th></th>\n",
       "      <th>County Name</th>\n",
       "      <th>City</th>\n",
       "      <th>poblacion</th>\n",
       "    </tr>\n",
       "  </thead>\n",
       "  <tbody>\n",
       "    <tr>\n",
       "      <th>0</th>\n",
       "      <td>ALACHUA</td>\n",
       "      <td>HIGH SPRINGS</td>\n",
       "      <td>6215.0</td>\n",
       "    </tr>\n",
       "    <tr>\n",
       "      <th>1</th>\n",
       "      <td>ALACHUA</td>\n",
       "      <td>ARCHER</td>\n",
       "      <td>1140.0</td>\n",
       "    </tr>\n",
       "    <tr>\n",
       "      <th>2</th>\n",
       "      <td>ALACHUA</td>\n",
       "      <td>HAWTHORNE</td>\n",
       "      <td>1478.0</td>\n",
       "    </tr>\n",
       "    <tr>\n",
       "      <th>3</th>\n",
       "      <td>ALACHUA</td>\n",
       "      <td>GAINESVILLE</td>\n",
       "      <td>141085.0</td>\n",
       "    </tr>\n",
       "    <tr>\n",
       "      <th>4</th>\n",
       "      <td>ALACHUA</td>\n",
       "      <td>WALDO</td>\n",
       "      <td>846.0</td>\n",
       "    </tr>\n",
       "    <tr>\n",
       "      <th>...</th>\n",
       "      <td>...</td>\n",
       "      <td>...</td>\n",
       "      <td>...</td>\n",
       "    </tr>\n",
       "    <tr>\n",
       "      <th>208</th>\n",
       "      <td>WAKULLA</td>\n",
       "      <td>SOPCHOPPY</td>\n",
       "      <td>426.0</td>\n",
       "    </tr>\n",
       "    <tr>\n",
       "      <th>209</th>\n",
       "      <td>WALTON</td>\n",
       "      <td>DEFUNIAK SPRINGS</td>\n",
       "      <td>5919.0</td>\n",
       "    </tr>\n",
       "    <tr>\n",
       "      <th>210</th>\n",
       "      <td>WALTON</td>\n",
       "      <td>FREEPORT</td>\n",
       "      <td>5861.0</td>\n",
       "    </tr>\n",
       "    <tr>\n",
       "      <th>211</th>\n",
       "      <td>WASHINGTON</td>\n",
       "      <td>CHIPLEY</td>\n",
       "      <td>3660.0</td>\n",
       "    </tr>\n",
       "    <tr>\n",
       "      <th>212</th>\n",
       "      <td>WASHINGTON</td>\n",
       "      <td>VERNON</td>\n",
       "      <td>732.0</td>\n",
       "    </tr>\n",
       "  </tbody>\n",
       "</table>\n",
       "<p>213 rows × 3 columns</p>\n",
       "</div>"
      ],
      "text/plain": [
       "    County Name              City  poblacion\n",
       "0       ALACHUA      HIGH SPRINGS     6215.0\n",
       "1       ALACHUA            ARCHER     1140.0\n",
       "2       ALACHUA         HAWTHORNE     1478.0\n",
       "3       ALACHUA       GAINESVILLE   141085.0\n",
       "4       ALACHUA             WALDO      846.0\n",
       "..          ...               ...        ...\n",
       "208     WAKULLA         SOPCHOPPY      426.0\n",
       "209      WALTON  DEFUNIAK SPRINGS     5919.0\n",
       "210      WALTON          FREEPORT     5861.0\n",
       "211  WASHINGTON           CHIPLEY     3660.0\n",
       "212  WASHINGTON            VERNON      732.0\n",
       "\n",
       "[213 rows x 3 columns]"
      ]
     },
     "execution_count": 51,
     "metadata": {},
     "output_type": "execute_result"
    }
   ],
   "source": [
    "df_poblacion"
   ]
  },
  {
   "cell_type": "code",
   "execution_count": 57,
   "metadata": {},
   "outputs": [
    {
     "data": {
      "text/plain": [
       "KISSIMMEE       2\n",
       "SARASOTA        2\n",
       "WEWAHITCHKA     2\n",
       "JACKSONVILLE    2\n",
       "ORLANDO         2\n",
       "               ..\n",
       "VERO BEACH      1\n",
       "MARIANNA        1\n",
       "GRACEVILLE      1\n",
       "MONTICELLO      1\n",
       "VERNON          1\n",
       "Name: City, Length: 206, dtype: int64"
      ]
     },
     "execution_count": 57,
     "metadata": {},
     "output_type": "execute_result"
    }
   ],
   "source": [
    "df_poblacion['City'].value_counts()"
   ]
  },
  {
   "cell_type": "code",
   "execution_count": 55,
   "metadata": {},
   "outputs": [
    {
     "data": {
      "text/plain": [
       "MIAMI              367\n",
       "ORLANDO            261\n",
       "TAMPA              203\n",
       "FORT LAUDERDALE    180\n",
       "JACKSONVILLE       169\n",
       "                  ... \n",
       "LAKE MONROE          1\n",
       "FORT WHITE           1\n",
       "HORSESHOE BEACH      1\n",
       "JAY                  1\n",
       "FLORAHOME            1\n",
       "Name: City, Length: 303, dtype: int64"
      ]
     },
     "execution_count": 55,
     "metadata": {},
     "output_type": "execute_result"
    }
   ],
   "source": [
    "df_lugares['City'].value_counts()"
   ]
  },
  {
   "cell_type": "code",
   "execution_count": 57,
   "metadata": {},
   "outputs": [],
   "source": [
    "ciudad = 'MIAMI'\n",
    "poblacion = df_poblacion[df_poblacion['City'] == ciudad]\n",
    "if poblacion.shape[0] != 0:\n",
    "    poblacion = poblacion.iloc[0][2]"
   ]
  },
  {
   "cell_type": "code",
   "execution_count": 58,
   "metadata": {},
   "outputs": [],
   "source": [
    "df_ciudad = df_lugares [df_lugares ['City'] == ciudad]\n",
    "\n",
    "categoria = 'Restaurant'\n",
    "df_categoria = df_ciudad [df_ciudad ['category'] == categoria]"
   ]
  },
  {
   "cell_type": "code",
   "execution_count": 59,
   "metadata": {},
   "outputs": [
    {
     "data": {
      "text/plain": [
       "1    19\n",
       "0    15\n",
       "Name: closed, dtype: int64"
      ]
     },
     "execution_count": 59,
     "metadata": {},
     "output_type": "execute_result"
    }
   ],
   "source": [
    "# Cantidad negocios abiertos y cerrados por categoría\n",
    "\n",
    "df_categoria['closed'].value_counts()"
   ]
  },
  {
   "cell_type": "code",
   "execution_count": null,
   "metadata": {},
   "outputs": [],
   "source": [
    "df_condicion_sitios = df_lugares.groupby('Condición_Establecimiento').City.count()"
   ]
  },
  {
   "cell_type": "code",
   "execution_count": 1,
   "metadata": {},
   "outputs": [
    {
     "ename": "NameError",
     "evalue": "name 'df_ciudad' is not defined",
     "output_type": "error",
     "traceback": [
      "\u001b[1;31m---------------------------------------------------------------------------\u001b[0m",
      "\u001b[1;31mNameError\u001b[0m                                 Traceback (most recent call last)",
      "\u001b[1;32mc:\\Users\\janic\\Documents\\CURSOS\\DATA SCIENCE\\CARRERA\\LABS\\04 PG - Proyecto Final\\Our Project\\Repositorio\\PG_Google_Maps\\Streamlit_iTakeU\\ETL iTakeU.ipynb Cell 25\u001b[0m in \u001b[0;36m<cell line: 1>\u001b[1;34m()\u001b[0m\n\u001b[1;32m----> <a href='vscode-notebook-cell:/c%3A/Users/janic/Documents/CURSOS/DATA%20SCIENCE/CARRERA/LABS/04%20PG%20-%20Proyecto%20Final/Our%20Project/Repositorio/PG_Google_Maps/Streamlit_iTakeU/ETL%20iTakeU.ipynb#X33sZmlsZQ%3D%3D?line=0'>1</a>\u001b[0m df_sitios_ciudad_categoria \u001b[39m=\u001b[39m df_ciudad\u001b[39m.\u001b[39mgroupby(\u001b[39m'\u001b[39m\u001b[39mcategory\u001b[39m\u001b[39m'\u001b[39m)\u001b[39m.\u001b[39mcategory\u001b[39m.\u001b[39mcount()\n",
      "\u001b[1;31mNameError\u001b[0m: name 'df_ciudad' is not defined"
     ]
    }
   ],
   "source": [
    "df_sitios_ciudad_categoria = df_ciudad.groupby('category').category.count()"
   ]
  },
  {
   "attachments": {},
   "cell_type": "markdown",
   "metadata": {},
   "source": [
    "------------------------------------------------------------------------------------------------"
   ]
  },
  {
   "attachments": {},
   "cell_type": "markdown",
   "metadata": {},
   "source": [
    "### Review Fl"
   ]
  },
  {
   "cell_type": "code",
   "execution_count": 60,
   "metadata": {},
   "outputs": [],
   "source": [
    "df_review_Fl = pd.read_parquet ('review_FL.parquet')"
   ]
  },
  {
   "attachments": {},
   "cell_type": "markdown",
   "metadata": {},
   "source": [
    "### Sitios Fl 18-02"
   ]
  },
  {
   "cell_type": "code",
   "execution_count": 63,
   "metadata": {},
   "outputs": [],
   "source": [
    "df_sitios_Fl_18_02 = pd.read_csv ('sitios_FL_18_02.csv')"
   ]
  }
 ],
 "metadata": {
  "kernelspec": {
   "display_name": "Python 3",
   "language": "python",
   "name": "python3"
  },
  "language_info": {
   "codemirror_mode": {
    "name": "ipython",
    "version": 3
   },
   "file_extension": ".py",
   "mimetype": "text/x-python",
   "name": "python",
   "nbconvert_exporter": "python",
   "pygments_lexer": "ipython3",
   "version": "3.10.6"
  },
  "orig_nbformat": 4,
  "vscode": {
   "interpreter": {
    "hash": "8dc0dacea01ebb95b8ade7b8245002a453f0cf5a8b19b6467f10db406d4039cc"
   }
  }
 },
 "nbformat": 4,
 "nbformat_minor": 2
}
